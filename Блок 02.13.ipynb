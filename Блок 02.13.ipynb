{
 "cells": [
  {
   "cell_type": "markdown",
   "source": [
    "# 2.13 Pandas. Сортировки и группировки\n",
    "## Задание номер 1\n",
    "##### В файле содержатся отзывы на вина. Подробно о содержании колонок можно посмотреть тут.\n",
    "\n",
    "##### Ваша задача найти самое дорогое вино в данных (колонка price) и указать винодельню где оно было произведено (колонка winery)"
   ],
   "metadata": {
    "collapsed": false
   }
  },
  {
   "cell_type": "code",
   "execution_count": 1,
   "outputs": [
    {
     "data": {
      "text/plain": "         country                                        description  \\\n80290     France  This ripe wine shows plenty of blackberry frui...   \n15840     France  The wine is a velvet glove in an iron fist. Th...   \n98380     France  A superb wine from a great year, this is power...   \n120391        US  The nose on this single-vineyard wine from a s...   \n113564    France  A wonderfully complete wine, with all the elem...   \n...          ...                                                ...   \n129844     Italy  Doga delle Clavule is a neutral, mineral-drive...   \n129860  Portugal  This rich wine has a firm structure as well as...   \n129863  Portugal  This mature wine that has 50% Touriga Nacional...   \n129893     Italy  Aromas of passion fruit, hay and a vegetal not...   \n129964    France  Initially quite muted, this wine slowly develo...   \n\n                         designation  points   price    province  \\\n80290                            NaN      88  3300.0    Bordeaux   \n15840                            NaN      96  2500.0    Bordeaux   \n98380                            NaN      96  2500.0    Burgundy   \n120391           Roger Rose Vineyard      91  2013.0  California   \n113564                           NaN      96  2000.0    Burgundy   \n...                              ...     ...     ...         ...   \n129844            Doga delle Clavule      86     NaN     Tuscany   \n129860              Pacheca Superior      90     NaN       Douro   \n129863                       Reserva      90     NaN         Dão   \n129893                  Corte Menini      91     NaN      Veneto   \n129964  Domaine Saint-Rémy Herrenweg      90     NaN      Alsace   \n\n                     region_1       region_2    taster_name  \\\n80290                   Médoc            NaN     Roger Voss   \n15840                 Pomerol            NaN     Roger Voss   \n98380              La Romanée            NaN     Roger Voss   \n120391            Arroyo Seco  Central Coast  Matt Kettmann   \n113564             La Romanée            NaN     Roger Voss   \n...                       ...            ...            ...   \n129844  Morellino di Scansano            NaN            NaN   \n129860                    NaN            NaN     Roger Voss   \n129863                    NaN            NaN     Roger Voss   \n129893         Soave Classico            NaN  Kerin O’Keefe   \n129964                 Alsace            NaN     Roger Voss   \n\n       taster_twitter_handle  \\\n80290             @vossroger   \n15840             @vossroger   \n98380             @vossroger   \n120391         @mattkettmann   \n113564            @vossroger   \n...                      ...   \n129844                   NaN   \n129860            @vossroger   \n129863            @vossroger   \n129893          @kerinokeefe   \n129964            @vossroger   \n\n                                                    title  \\\n80290                Château les Ormes Sorbet 2013  Médoc   \n15840                        Château Pétrus 2014  Pomerol   \n98380      Domaine du Comte Liger-Belair 2010  La Romanée   \n120391  Blair 2013 Roger Rose Vineyard Chardonnay (Arr...   \n113564     Domaine du Comte Liger-Belair 2005  La Romanée   \n...                                                   ...   \n129844  Caparzo 2006 Doga delle Clavule  (Morellino di...   \n129860  Quinta da Pacheca 2013 Pacheca Superior Red (D...   \n129863                    Seacampo 2011 Reserva Red (Dão)   \n129893   Le Mandolare 2015 Corte Menini  (Soave Classico)   \n129964  Domaine Ehrhart 2013 Domaine Saint-Rémy Herren...   \n\n                         variety                         winery  \n80290   Bordeaux-style Red Blend       Château les Ormes Sorbet  \n15840   Bordeaux-style Red Blend                 Château Pétrus  \n98380                 Pinot Noir  Domaine du Comte Liger-Belair  \n120391                Chardonnay                          Blair  \n113564                Pinot Noir  Domaine du Comte Liger-Belair  \n...                          ...                            ...  \n129844                Sangiovese                        Caparzo  \n129860            Portuguese Red              Quinta da Pacheca  \n129863            Portuguese Red                       Seacampo  \n129893                 Garganega                   Le Mandolare  \n129964            Gewürztraminer                Domaine Ehrhart  \n\n[129971 rows x 13 columns]",
      "text/html": "<div>\n<style scoped>\n    .dataframe tbody tr th:only-of-type {\n        vertical-align: middle;\n    }\n\n    .dataframe tbody tr th {\n        vertical-align: top;\n    }\n\n    .dataframe thead th {\n        text-align: right;\n    }\n</style>\n<table border=\"1\" class=\"dataframe\">\n  <thead>\n    <tr style=\"text-align: right;\">\n      <th></th>\n      <th>country</th>\n      <th>description</th>\n      <th>designation</th>\n      <th>points</th>\n      <th>price</th>\n      <th>province</th>\n      <th>region_1</th>\n      <th>region_2</th>\n      <th>taster_name</th>\n      <th>taster_twitter_handle</th>\n      <th>title</th>\n      <th>variety</th>\n      <th>winery</th>\n    </tr>\n  </thead>\n  <tbody>\n    <tr>\n      <th>80290</th>\n      <td>France</td>\n      <td>This ripe wine shows plenty of blackberry frui...</td>\n      <td>NaN</td>\n      <td>88</td>\n      <td>3300.0</td>\n      <td>Bordeaux</td>\n      <td>Médoc</td>\n      <td>NaN</td>\n      <td>Roger Voss</td>\n      <td>@vossroger</td>\n      <td>Château les Ormes Sorbet 2013  Médoc</td>\n      <td>Bordeaux-style Red Blend</td>\n      <td>Château les Ormes Sorbet</td>\n    </tr>\n    <tr>\n      <th>15840</th>\n      <td>France</td>\n      <td>The wine is a velvet glove in an iron fist. Th...</td>\n      <td>NaN</td>\n      <td>96</td>\n      <td>2500.0</td>\n      <td>Bordeaux</td>\n      <td>Pomerol</td>\n      <td>NaN</td>\n      <td>Roger Voss</td>\n      <td>@vossroger</td>\n      <td>Château Pétrus 2014  Pomerol</td>\n      <td>Bordeaux-style Red Blend</td>\n      <td>Château Pétrus</td>\n    </tr>\n    <tr>\n      <th>98380</th>\n      <td>France</td>\n      <td>A superb wine from a great year, this is power...</td>\n      <td>NaN</td>\n      <td>96</td>\n      <td>2500.0</td>\n      <td>Burgundy</td>\n      <td>La Romanée</td>\n      <td>NaN</td>\n      <td>Roger Voss</td>\n      <td>@vossroger</td>\n      <td>Domaine du Comte Liger-Belair 2010  La Romanée</td>\n      <td>Pinot Noir</td>\n      <td>Domaine du Comte Liger-Belair</td>\n    </tr>\n    <tr>\n      <th>120391</th>\n      <td>US</td>\n      <td>The nose on this single-vineyard wine from a s...</td>\n      <td>Roger Rose Vineyard</td>\n      <td>91</td>\n      <td>2013.0</td>\n      <td>California</td>\n      <td>Arroyo Seco</td>\n      <td>Central Coast</td>\n      <td>Matt Kettmann</td>\n      <td>@mattkettmann</td>\n      <td>Blair 2013 Roger Rose Vineyard Chardonnay (Arr...</td>\n      <td>Chardonnay</td>\n      <td>Blair</td>\n    </tr>\n    <tr>\n      <th>113564</th>\n      <td>France</td>\n      <td>A wonderfully complete wine, with all the elem...</td>\n      <td>NaN</td>\n      <td>96</td>\n      <td>2000.0</td>\n      <td>Burgundy</td>\n      <td>La Romanée</td>\n      <td>NaN</td>\n      <td>Roger Voss</td>\n      <td>@vossroger</td>\n      <td>Domaine du Comte Liger-Belair 2005  La Romanée</td>\n      <td>Pinot Noir</td>\n      <td>Domaine du Comte Liger-Belair</td>\n    </tr>\n    <tr>\n      <th>...</th>\n      <td>...</td>\n      <td>...</td>\n      <td>...</td>\n      <td>...</td>\n      <td>...</td>\n      <td>...</td>\n      <td>...</td>\n      <td>...</td>\n      <td>...</td>\n      <td>...</td>\n      <td>...</td>\n      <td>...</td>\n      <td>...</td>\n    </tr>\n    <tr>\n      <th>129844</th>\n      <td>Italy</td>\n      <td>Doga delle Clavule is a neutral, mineral-drive...</td>\n      <td>Doga delle Clavule</td>\n      <td>86</td>\n      <td>NaN</td>\n      <td>Tuscany</td>\n      <td>Morellino di Scansano</td>\n      <td>NaN</td>\n      <td>NaN</td>\n      <td>NaN</td>\n      <td>Caparzo 2006 Doga delle Clavule  (Morellino di...</td>\n      <td>Sangiovese</td>\n      <td>Caparzo</td>\n    </tr>\n    <tr>\n      <th>129860</th>\n      <td>Portugal</td>\n      <td>This rich wine has a firm structure as well as...</td>\n      <td>Pacheca Superior</td>\n      <td>90</td>\n      <td>NaN</td>\n      <td>Douro</td>\n      <td>NaN</td>\n      <td>NaN</td>\n      <td>Roger Voss</td>\n      <td>@vossroger</td>\n      <td>Quinta da Pacheca 2013 Pacheca Superior Red (D...</td>\n      <td>Portuguese Red</td>\n      <td>Quinta da Pacheca</td>\n    </tr>\n    <tr>\n      <th>129863</th>\n      <td>Portugal</td>\n      <td>This mature wine that has 50% Touriga Nacional...</td>\n      <td>Reserva</td>\n      <td>90</td>\n      <td>NaN</td>\n      <td>Dão</td>\n      <td>NaN</td>\n      <td>NaN</td>\n      <td>Roger Voss</td>\n      <td>@vossroger</td>\n      <td>Seacampo 2011 Reserva Red (Dão)</td>\n      <td>Portuguese Red</td>\n      <td>Seacampo</td>\n    </tr>\n    <tr>\n      <th>129893</th>\n      <td>Italy</td>\n      <td>Aromas of passion fruit, hay and a vegetal not...</td>\n      <td>Corte Menini</td>\n      <td>91</td>\n      <td>NaN</td>\n      <td>Veneto</td>\n      <td>Soave Classico</td>\n      <td>NaN</td>\n      <td>Kerin O’Keefe</td>\n      <td>@kerinokeefe</td>\n      <td>Le Mandolare 2015 Corte Menini  (Soave Classico)</td>\n      <td>Garganega</td>\n      <td>Le Mandolare</td>\n    </tr>\n    <tr>\n      <th>129964</th>\n      <td>France</td>\n      <td>Initially quite muted, this wine slowly develo...</td>\n      <td>Domaine Saint-Rémy Herrenweg</td>\n      <td>90</td>\n      <td>NaN</td>\n      <td>Alsace</td>\n      <td>Alsace</td>\n      <td>NaN</td>\n      <td>Roger Voss</td>\n      <td>@vossroger</td>\n      <td>Domaine Ehrhart 2013 Domaine Saint-Rémy Herren...</td>\n      <td>Gewürztraminer</td>\n      <td>Domaine Ehrhart</td>\n    </tr>\n  </tbody>\n</table>\n<p>129971 rows × 13 columns</p>\n</div>"
     },
     "execution_count": 1,
     "metadata": {},
     "output_type": "execute_result"
    }
   ],
   "source": [
    "import pandas as pd\n",
    "\n",
    "df = pd.read_csv('Files/wines.csv', encoding='utf-8', delimiter=',')\n",
    "df.sort_values(by='price', ascending=False)"
   ],
   "metadata": {
    "collapsed": false
   }
  },
  {
   "cell_type": "code",
   "execution_count": 2,
   "outputs": [
    {
     "name": "stdout",
     "output_type": "stream",
     "text": [
      "Château les Ormes Sorbet\n"
     ]
    }
   ],
   "source": [
    "print(df[df['price'] == df['price'].max()]['winery'].values.item())"
   ],
   "metadata": {
    "collapsed": false
   }
  },
  {
   "cell_type": "markdown",
   "source": [
    "## Задание номер 2\n",
    "##### В файле содержатся отзывы на вина. Подробно о содержании колонок можно посмотреть тут.\n",
    "\n",
    "##### Ваша задача найти кол-во отзывов на вина из Израиля (колонка country, название Israel)"
   ],
   "metadata": {
    "collapsed": false
   }
  },
  {
   "cell_type": "code",
   "execution_count": 3,
   "outputs": [
    {
     "data": {
      "text/plain": "505"
     },
     "execution_count": 3,
     "metadata": {},
     "output_type": "execute_result"
    }
   ],
   "source": [
    "df[df['country'] == 'Israel'].shape[0]"
   ],
   "metadata": {
    "collapsed": false
   }
  },
  {
   "cell_type": "markdown",
   "source": [
    "## Задание номер 3\n",
    "##### В файле содержатся отзывы на вина. Подробно о содержании колонок можно посмотреть тут.\n",
    "\n",
    "##### Ваша задача найти среднюю оценку вин (колонка points) для страны Италии (колонка country). Ответ округлите до целого"
   ],
   "metadata": {
    "collapsed": false
   }
  },
  {
   "cell_type": "code",
   "execution_count": 4,
   "outputs": [
    {
     "data": {
      "text/plain": "89"
     },
     "execution_count": 4,
     "metadata": {},
     "output_type": "execute_result"
    }
   ],
   "source": [
    "round(df[df['country'] == 'Italy']['points'].mean())"
   ],
   "metadata": {
    "collapsed": false
   }
  },
  {
   "cell_type": "markdown",
   "source": [
    "## Задание номер 4\n",
    "##### В файле содержатся отзывы на вина. Подробно о содержании колонок можно посмотреть тут.\n",
    "\n",
    "##### Ваша задача найти на вина из какой страны в данных содержится больше всего отзывов."
   ],
   "metadata": {
    "collapsed": false
   }
  },
  {
   "cell_type": "code",
   "execution_count": 5,
   "outputs": [
    {
     "name": "stdout",
     "output_type": "stream",
     "text": [
      "US\n"
     ]
    }
   ],
   "source": [
    "print(df['country'].value_counts().index[0])"
   ],
   "metadata": {
    "collapsed": false
   }
  },
  {
   "cell_type": "markdown",
   "source": [
    "## Задание номер 5\n",
    "##### В файле содержатся отзывы на вина. Подробно о содержании колонок можно посмотреть тут.\n",
    "\n",
    "##### Ваша задача найти на вина из какой страны в данных содержится ровно 109 отзывов."
   ],
   "metadata": {
    "collapsed": false
   }
  },
  {
   "cell_type": "code",
   "execution_count": 6,
   "outputs": [
    {
     "name": "stdout",
     "output_type": "stream",
     "text": [
      "Uruguay\n"
     ]
    }
   ],
   "source": [
    "df_count_country = df.groupby('country').size()\n",
    "print(df_count_country[df_count_country == 109].index[0])"
   ],
   "metadata": {
    "collapsed": false
   }
  },
  {
   "cell_type": "markdown",
   "source": [
    "## Задание номер 6\n",
    "##### В файле содержатся отзывы на вина. Подробно о содержании колонок можно посмотреть тут.\n",
    "\n",
    "##### Ваша задача найти регион Франции (колонки country и province), на вина которого в данных меньше всего отзывов."
   ],
   "metadata": {
    "collapsed": false
   }
  },
  {
   "cell_type": "code",
   "execution_count": 7,
   "outputs": [
    {
     "name": "stdout",
     "output_type": "stream",
     "text": [
      "Languedoc-Roussillon\n"
     ]
    }
   ],
   "source": [
    "print(df[df['country'] == 'France'].groupby('province').size().idxmin())"
   ],
   "metadata": {
    "collapsed": false
   }
  },
  {
   "cell_type": "markdown",
   "source": [
    "## Задание номер 7\n",
    "##### В файле содержатся отзывы на вина. Подробно о содержании колонок можно посмотреть тут.\n",
    "\n",
    "##### Ваша задача найти страну и регион (колонка province), для вин которого средняя оценка (колонка points) наибольшая. Запишите их через запятую, как в примере\n",
    "###### France, Bordeaux"
   ],
   "metadata": {
    "collapsed": false
   }
  },
  {
   "cell_type": "code",
   "execution_count": 8,
   "outputs": [
    {
     "name": "stdout",
     "output_type": "stream",
     "text": [
      "Austria, Südburgenland\n"
     ]
    }
   ],
   "source": [
    " print(\", \".join(df.groupby(['country', 'province'])['points'].mean().sort_values(ascending=False).index[0]))"
   ],
   "metadata": {
    "collapsed": false
   }
  },
  {
   "cell_type": "markdown",
   "source": [
    "## Задание номер 8\n",
    "##### В файле содержатся отзывы на вина. Подробно о содержании колонок можно посмотреть тут.\n",
    "\n",
    "##### Ваша задача найти кол-во стран, вина которых никогда не получали 95 и более балов."
   ],
   "metadata": {
    "collapsed": false
   }
  },
  {
   "cell_type": "code",
   "execution_count": 9,
   "outputs": [
    {
     "data": {
      "text/plain": "29"
     },
     "execution_count": 9,
     "metadata": {},
     "output_type": "execute_result"
    }
   ],
   "source": [
    "max_country_point = df.groupby('country')['points'].max()\n",
    "max_country_point[max_country_point < 95].count()"
   ],
   "metadata": {
    "collapsed": false
   }
  },
  {
   "cell_type": "markdown",
   "source": [
    "## Задание номер 9\n",
    "##### В файле содержатся отзывы на вина. Подробно о содержании колонок можно посмотреть тут.\n",
    "\n",
    "##### аша задача найти самого строгого оценщика (колонка taster_name), т.е. того, у которого средняя оценка минимальная."
   ],
   "metadata": {
    "collapsed": false
   }
  },
  {
   "cell_type": "code",
   "execution_count": 10,
   "outputs": [
    {
     "name": "stdout",
     "output_type": "stream",
     "text": [
      "Alexander Peartree\n"
     ]
    }
   ],
   "source": [
    "print(df.groupby(['taster_name'])['points'].mean().idxmin())"
   ],
   "metadata": {
    "collapsed": false
   }
  },
  {
   "cell_type": "markdown",
   "source": [
    "## Задание номер 10\n",
    "##### В файле содержатся отзывы на вина. Подробно о содержании колонок можно посмотреть тут.\n",
    "\n",
    "##### Ваша задача найти вина каких трех стран, понравились критику Roger Voss больше всего. Запишите через запятую в порядке убывания средней оценки.\n",
    "###### France, Russia, United Kingdom"
   ],
   "metadata": {
    "collapsed": false
   }
  },
  {
   "cell_type": "code",
   "execution_count": 11,
   "outputs": [
    {
     "name": "stdout",
     "output_type": "stream",
     "text": [
      "US, Austria, South Africa\n"
     ]
    }
   ],
   "source": [
    "print(*df[df['taster_name'] == 'Roger Voss'].groupby('country')['points'].mean().sort_values(ascending=False).head(3).index, sep=', ')"
   ],
   "metadata": {
    "collapsed": false
   }
  }
 ],
 "metadata": {
  "kernelspec": {
   "display_name": "Python 3",
   "language": "python",
   "name": "python3"
  },
  "language_info": {
   "codemirror_mode": {
    "name": "ipython",
    "version": 2
   },
   "file_extension": ".py",
   "mimetype": "text/x-python",
   "name": "python",
   "nbconvert_exporter": "python",
   "pygments_lexer": "ipython2",
   "version": "2.7.6"
  }
 },
 "nbformat": 4,
 "nbformat_minor": 0
}
