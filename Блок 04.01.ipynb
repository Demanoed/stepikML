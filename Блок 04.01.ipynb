{
 "cells": [
  {
   "cell_type": "markdown",
   "source": [
    "# 4.01 Задача регрессии. Линейная регрессия\n",
    "## Задание номер 1\n",
    "##### Вам даны два ряда. В одном ряду значения курса валюты за определенный промежуток времени, во втором ряду находится предсказанный некоторой моделью курс этой же валюты. По двум рядам определите ошибку предсказания MSE"
   ],
   "metadata": {
    "collapsed": false
   }
  },
  {
   "cell_type": "code",
   "execution_count": 1,
   "outputs": [
    {
     "data": {
      "text/plain": "489.16182735045805"
     },
     "execution_count": 1,
     "metadata": {},
     "output_type": "execute_result"
    }
   ],
   "source": [
    "import numpy as np\n",
    "actual_row = np.load('Files/first-series.npy')\n",
    "predicted_row = np.load('Files/second-series.npy')\n",
    "sum([(actual_row[i] - predicted_row[i]) ** 2 for i in range(len(actual_row))]) / len(actual_row)"
   ],
   "metadata": {
    "collapsed": false
   }
  },
  {
   "cell_type": "markdown",
   "source": [
    "###### (Для своего понимания) Чтобы вычислить ошибку MSE, сначала нужно вычислить разность между значениями фактического ряда и предсказанного ряда в квадрате, затем найти среднее арифметическое от этих квадратов. Полученное значение и будет являться ошибкой предсказания."
   ],
   "metadata": {
    "collapsed": false
   }
  },
  {
   "cell_type": "markdown",
   "source": [
    "## Задание номер 2\n",
    "##### Вам даны два ряда. В одном ряду значения курса валюты за определенный промежуток времени, во втором ряду находится предсказанный некоторой моделью курс этой же валюты. По двум рядам определите ошибку предсказания RMSE"
   ],
   "metadata": {
    "collapsed": false
   }
  },
  {
   "cell_type": "code",
   "execution_count": 2,
   "outputs": [
    {
     "data": {
      "text/plain": "22.11700312769472"
     },
     "execution_count": 2,
     "metadata": {},
     "output_type": "execute_result"
    }
   ],
   "source": [
    "np.sqrt((sum([(actual_row[i] - predicted_row[i]) ** 2 for i in range(len(actual_row))])) / len(actual_row))"
   ],
   "metadata": {
    "collapsed": false
   }
  },
  {
   "cell_type": "markdown",
   "source": [
    "###### (Для своего понимания) Чтобы вычислить ошибку RMSE, сначала вычисляем разность между значениями фактического ряда и предсказанного ряда, затем возводим каждую разность в квадрат и находим их сумму. Далее делим полученную сумму на количество элементов в рядах и извлекаем из результата корень."
   ],
   "metadata": {
    "collapsed": false
   }
  },
  {
   "cell_type": "markdown",
   "source": [
    "## Задание номер 3\n",
    "##### Вам даны два ряда. В одном ряду значения курса валюты за определенный промежуток времени, во втором ряду находится предсказанный некоторой моделью курс этой же валюты. По двум рядам определите ошибку предсказания MAE"
   ],
   "metadata": {
    "collapsed": false
   }
  },
  {
   "cell_type": "code",
   "execution_count": 3,
   "outputs": [
    {
     "data": {
      "text/plain": "17.996466944603256"
     },
     "execution_count": 3,
     "metadata": {},
     "output_type": "execute_result"
    }
   ],
   "source": [
    "np.abs(np.array(actual_row) - np.array(predicted_row)).mean()"
   ],
   "metadata": {
    "collapsed": false
   }
  },
  {
   "cell_type": "markdown",
   "source": [
    "###### (Для своего понимания) Чтобы вычислить ошибку MAE, сначала преобразуем значения рядов в массивы NumPy, затем вычисляем разность между значениями фактического ряда и предсказанного ряда, после чего вычисляем абсолютное значение разности и находим среднее арифметическое от этих абсолютной разности."
   ],
   "metadata": {
    "collapsed": false
   }
  },
  {
   "cell_type": "markdown",
   "source": [
    "## Задание номер 4\n",
    "##### Постройте линейную регрессию по данным и в ответ запишите получившийся коэффициент k"
   ],
   "metadata": {
    "collapsed": false
   }
  },
  {
   "cell_type": "code",
   "execution_count": 4,
   "outputs": [
    {
     "data": {
      "text/plain": "['years', 'prices']"
     },
     "execution_count": 4,
     "metadata": {},
     "output_type": "execute_result"
    }
   ],
   "source": [
    "data = np.load('Files/data_zad_04.01.04.npz')\n",
    "data.files"
   ],
   "metadata": {
    "collapsed": false
   }
  },
  {
   "cell_type": "code",
   "execution_count": 5,
   "outputs": [
    {
     "data": {
      "text/plain": "2.3470422819942187"
     },
     "execution_count": 5,
     "metadata": {},
     "output_type": "execute_result"
    }
   ],
   "source": [
    "from sklearn.linear_model import LinearRegression\n",
    "data_years = data['years'].reshape(-1, 1)\n",
    "data_prices = data['prices']\n",
    "model = LinearRegression().fit(data_years, data_prices)\n",
    "model.coef_[0]"
   ],
   "metadata": {
    "collapsed": false
   }
  }
 ],
 "metadata": {
  "kernelspec": {
   "display_name": "Python 3",
   "language": "python",
   "name": "python3"
  },
  "language_info": {
   "codemirror_mode": {
    "name": "ipython",
    "version": 2
   },
   "file_extension": ".py",
   "mimetype": "text/x-python",
   "name": "python",
   "nbconvert_exporter": "python",
   "pygments_lexer": "ipython2",
   "version": "2.7.6"
  }
 },
 "nbformat": 4,
 "nbformat_minor": 0
}
