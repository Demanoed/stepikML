{
 "cells": [
  {
   "cell_type": "markdown",
   "source": [
    "# 4.02 Задача регрессии. Линейная регрессия не для kx + b\n",
    "## Задание номер 1\n",
    "##### В файле даны значения x, y\n",
    "##### Ваша задача найти коэффициенты a1, a2, a3 округлить их до ближайшего целого и записать через пробел"
   ],
   "metadata": {
    "collapsed": false
   }
  },
  {
   "cell_type": "code",
   "execution_count": 1,
   "outputs": [
    {
     "data": {
      "text/plain": "['x', 'y']"
     },
     "execution_count": 1,
     "metadata": {},
     "output_type": "execute_result"
    }
   ],
   "source": [
    "import numpy as np\n",
    "data = np.load('Files/data_zad_04.02.01.npz')\n",
    "data.files"
   ],
   "metadata": {
    "collapsed": false
   }
  },
  {
   "cell_type": "code",
   "execution_count": 2,
   "outputs": [
    {
     "name": "stdout",
     "output_type": "stream",
     "text": [
      "2 2 3\n"
     ]
    }
   ],
   "source": [
    "from scipy.optimize import curve_fit\n",
    "def formula(x, a1, a2, a3):\n",
    "    return a1 * np.sin(x) + a2 * np.cos(x) + a3\n",
    "result = curve_fit(formula, data['x'], data['y'])\n",
    "print(round(result[0][0]), round(result[0][1]), round(result[0][2]))"
   ],
   "metadata": {
    "collapsed": false
   }
  },
  {
   "cell_type": "markdown",
   "source": [
    "## Задание номер 2\n",
    "##### В файле даны значения x, y\n",
    "##### Ваша задача найти коэффициенты a1, a2, a3, a4 округлить их до ближайшего целого и записать через пробел"
   ],
   "metadata": {
    "collapsed": false
   }
  },
  {
   "cell_type": "code",
   "execution_count": 3,
   "outputs": [
    {
     "data": {
      "text/plain": "['x', 'y']"
     },
     "execution_count": 3,
     "metadata": {},
     "output_type": "execute_result"
    }
   ],
   "source": [
    "data = np.load('Files/data_zad_04.02.02.npz')\n",
    "data.files"
   ],
   "metadata": {
    "collapsed": false
   }
  },
  {
   "cell_type": "code",
   "execution_count": 4,
   "outputs": [
    {
     "name": "stdout",
     "output_type": "stream",
     "text": [
      "48 2 7 250\n"
     ]
    }
   ],
   "source": [
    "def formula(x, a1, a2, a3, a4):\n",
    "    return a1 * np.sin(x) + a2 * x + a3 * (x ** 2) + a4\n",
    "result = curve_fit(formula, data['x'], data['y'])\n",
    "print(round(result[0][0]), round(result[0][1]), round(result[0][2]), round(result[0][3]))"
   ],
   "metadata": {
    "collapsed": false
   }
  },
  {
   "cell_type": "markdown",
   "source": [
    "## Задание номер 3\n",
    "##### В файле даны значения x, y. Ваша задача построить модель регрессии и предсказать значения y для различных значений x. Предсказанные значения округлите до ближайшего целого"
   ],
   "metadata": {
    "collapsed": false
   }
  },
  {
   "cell_type": "code",
   "execution_count": 5,
   "outputs": [
    {
     "data": {
      "text/plain": "['x', 'y']"
     },
     "execution_count": 5,
     "metadata": {},
     "output_type": "execute_result"
    }
   ],
   "source": [
    "data = np.load('Files/data_zad_04.02.03.npz')\n",
    "data.files"
   ],
   "metadata": {
    "collapsed": false
   }
  },
  {
   "cell_type": "code",
   "execution_count": 6,
   "outputs": [
    {
     "name": "stdout",
     "output_type": "stream",
     "text": [
      "[[109.56943587]\n",
      " [114.10232375]\n",
      " [241.02318452]\n",
      " [-76.27896739]]\n"
     ]
    }
   ],
   "source": [
    "from sklearn.linear_model import LinearRegression\n",
    "model = LinearRegression().fit(data['x'].reshape(-1, 1), data['y'].reshape(-1, 1))\n",
    "print(model.predict([[21],[22],[50],[-20]]))"
   ],
   "metadata": {
    "collapsed": false
   }
  }
 ],
 "metadata": {
  "kernelspec": {
   "display_name": "Python 3",
   "language": "python",
   "name": "python3"
  },
  "language_info": {
   "codemirror_mode": {
    "name": "ipython",
    "version": 2
   },
   "file_extension": ".py",
   "mimetype": "text/x-python",
   "name": "python",
   "nbconvert_exporter": "python",
   "pygments_lexer": "ipython2",
   "version": "2.7.6"
  }
 },
 "nbformat": 4,
 "nbformat_minor": 0
}
