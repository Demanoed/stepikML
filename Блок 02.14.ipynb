{
 "cells": [
  {
   "cell_type": "markdown",
   "source": [
    "# 2.14 Pandas. Дата и время\n",
    "## Задание номер 1\n",
    "##### По файлу titanic.csv определите сколько раз встречается в имени обращение Sir (там же где и Mr, Mrs в колонке Name)."
   ],
   "metadata": {
    "collapsed": false
   }
  },
  {
   "cell_type": "code",
   "execution_count": 1,
   "outputs": [
    {
     "data": {
      "text/plain": "     PassengerId  Survived  Pclass  \\\n0              1         0       3   \n1              2         1       1   \n2              3         1       3   \n3              4         1       1   \n4              5         0       3   \n..           ...       ...     ...   \n886          887         0       2   \n887          888         1       1   \n888          889         0       3   \n889          890         1       1   \n890          891         0       3   \n\n                                                  Name     Sex   Age  SibSp  \\\n0                              Braund, Mr. Owen Harris    male  22.0      1   \n1    Cumings, Mrs. John Bradley (Florence Briggs Th...  female  38.0      1   \n2                               Heikkinen, Miss. Laina  female  26.0      0   \n3         Futrelle, Mrs. Jacques Heath (Lily May Peel)  female  35.0      1   \n4                             Allen, Mr. William Henry    male  35.0      0   \n..                                                 ...     ...   ...    ...   \n886                              Montvila, Rev. Juozas    male  27.0      0   \n887                       Graham, Miss. Margaret Edith  female  19.0      0   \n888           Johnston, Miss. Catherine Helen \"Carrie\"  female   NaN      1   \n889                              Behr, Mr. Karl Howell    male  26.0      0   \n890                                Dooley, Mr. Patrick    male  32.0      0   \n\n     Parch            Ticket     Fare Cabin Embarked  \n0        0         A/5 21171   7.2500   NaN        S  \n1        0          PC 17599  71.2833   C85        C  \n2        0  STON/O2. 3101282   7.9250   NaN        S  \n3        0            113803  53.1000  C123        S  \n4        0            373450   8.0500   NaN        S  \n..     ...               ...      ...   ...      ...  \n886      0            211536  13.0000   NaN        S  \n887      0            112053  30.0000   B42        S  \n888      2        W./C. 6607  23.4500   NaN        S  \n889      0            111369  30.0000  C148        C  \n890      0            370376   7.7500   NaN        Q  \n\n[891 rows x 12 columns]",
      "text/html": "<div>\n<style scoped>\n    .dataframe tbody tr th:only-of-type {\n        vertical-align: middle;\n    }\n\n    .dataframe tbody tr th {\n        vertical-align: top;\n    }\n\n    .dataframe thead th {\n        text-align: right;\n    }\n</style>\n<table border=\"1\" class=\"dataframe\">\n  <thead>\n    <tr style=\"text-align: right;\">\n      <th></th>\n      <th>PassengerId</th>\n      <th>Survived</th>\n      <th>Pclass</th>\n      <th>Name</th>\n      <th>Sex</th>\n      <th>Age</th>\n      <th>SibSp</th>\n      <th>Parch</th>\n      <th>Ticket</th>\n      <th>Fare</th>\n      <th>Cabin</th>\n      <th>Embarked</th>\n    </tr>\n  </thead>\n  <tbody>\n    <tr>\n      <th>0</th>\n      <td>1</td>\n      <td>0</td>\n      <td>3</td>\n      <td>Braund, Mr. Owen Harris</td>\n      <td>male</td>\n      <td>22.0</td>\n      <td>1</td>\n      <td>0</td>\n      <td>A/5 21171</td>\n      <td>7.2500</td>\n      <td>NaN</td>\n      <td>S</td>\n    </tr>\n    <tr>\n      <th>1</th>\n      <td>2</td>\n      <td>1</td>\n      <td>1</td>\n      <td>Cumings, Mrs. John Bradley (Florence Briggs Th...</td>\n      <td>female</td>\n      <td>38.0</td>\n      <td>1</td>\n      <td>0</td>\n      <td>PC 17599</td>\n      <td>71.2833</td>\n      <td>C85</td>\n      <td>C</td>\n    </tr>\n    <tr>\n      <th>2</th>\n      <td>3</td>\n      <td>1</td>\n      <td>3</td>\n      <td>Heikkinen, Miss. Laina</td>\n      <td>female</td>\n      <td>26.0</td>\n      <td>0</td>\n      <td>0</td>\n      <td>STON/O2. 3101282</td>\n      <td>7.9250</td>\n      <td>NaN</td>\n      <td>S</td>\n    </tr>\n    <tr>\n      <th>3</th>\n      <td>4</td>\n      <td>1</td>\n      <td>1</td>\n      <td>Futrelle, Mrs. Jacques Heath (Lily May Peel)</td>\n      <td>female</td>\n      <td>35.0</td>\n      <td>1</td>\n      <td>0</td>\n      <td>113803</td>\n      <td>53.1000</td>\n      <td>C123</td>\n      <td>S</td>\n    </tr>\n    <tr>\n      <th>4</th>\n      <td>5</td>\n      <td>0</td>\n      <td>3</td>\n      <td>Allen, Mr. William Henry</td>\n      <td>male</td>\n      <td>35.0</td>\n      <td>0</td>\n      <td>0</td>\n      <td>373450</td>\n      <td>8.0500</td>\n      <td>NaN</td>\n      <td>S</td>\n    </tr>\n    <tr>\n      <th>...</th>\n      <td>...</td>\n      <td>...</td>\n      <td>...</td>\n      <td>...</td>\n      <td>...</td>\n      <td>...</td>\n      <td>...</td>\n      <td>...</td>\n      <td>...</td>\n      <td>...</td>\n      <td>...</td>\n      <td>...</td>\n    </tr>\n    <tr>\n      <th>886</th>\n      <td>887</td>\n      <td>0</td>\n      <td>2</td>\n      <td>Montvila, Rev. Juozas</td>\n      <td>male</td>\n      <td>27.0</td>\n      <td>0</td>\n      <td>0</td>\n      <td>211536</td>\n      <td>13.0000</td>\n      <td>NaN</td>\n      <td>S</td>\n    </tr>\n    <tr>\n      <th>887</th>\n      <td>888</td>\n      <td>1</td>\n      <td>1</td>\n      <td>Graham, Miss. Margaret Edith</td>\n      <td>female</td>\n      <td>19.0</td>\n      <td>0</td>\n      <td>0</td>\n      <td>112053</td>\n      <td>30.0000</td>\n      <td>B42</td>\n      <td>S</td>\n    </tr>\n    <tr>\n      <th>888</th>\n      <td>889</td>\n      <td>0</td>\n      <td>3</td>\n      <td>Johnston, Miss. Catherine Helen \"Carrie\"</td>\n      <td>female</td>\n      <td>NaN</td>\n      <td>1</td>\n      <td>2</td>\n      <td>W./C. 6607</td>\n      <td>23.4500</td>\n      <td>NaN</td>\n      <td>S</td>\n    </tr>\n    <tr>\n      <th>889</th>\n      <td>890</td>\n      <td>1</td>\n      <td>1</td>\n      <td>Behr, Mr. Karl Howell</td>\n      <td>male</td>\n      <td>26.0</td>\n      <td>0</td>\n      <td>0</td>\n      <td>111369</td>\n      <td>30.0000</td>\n      <td>C148</td>\n      <td>C</td>\n    </tr>\n    <tr>\n      <th>890</th>\n      <td>891</td>\n      <td>0</td>\n      <td>3</td>\n      <td>Dooley, Mr. Patrick</td>\n      <td>male</td>\n      <td>32.0</td>\n      <td>0</td>\n      <td>0</td>\n      <td>370376</td>\n      <td>7.7500</td>\n      <td>NaN</td>\n      <td>Q</td>\n    </tr>\n  </tbody>\n</table>\n<p>891 rows × 12 columns</p>\n</div>"
     },
     "execution_count": 1,
     "metadata": {},
     "output_type": "execute_result"
    }
   ],
   "source": [
    "import pandas as pd\n",
    "df = pd.read_csv('Files/titanic_train.csv', encoding='cp1251', delimiter=',')\n",
    "df"
   ],
   "metadata": {
    "collapsed": false
   }
  },
  {
   "cell_type": "code",
   "execution_count": 2,
   "outputs": [
    {
     "data": {
      "text/plain": "1"
     },
     "execution_count": 2,
     "metadata": {},
     "output_type": "execute_result"
    }
   ],
   "source": [
    "df[df['Name'].str.contains('Sir. ')]['Name'].count()"
   ],
   "metadata": {
    "collapsed": false
   }
  },
  {
   "cell_type": "markdown",
   "source": [
    "## Задание номер 2\n",
    "##### По файлу titanic.csv определите сколько за билет заплатил капитан (колонка Fare). (Это не капитан Титаника, просто капитан какого-то корабля, который был пассажиром, смотреть нужно также по обращению)"
   ],
   "metadata": {
    "collapsed": false
   }
  },
  {
   "cell_type": "code",
   "execution_count": 3,
   "outputs": [
    {
     "data": {
      "text/plain": "71"
     },
     "execution_count": 3,
     "metadata": {},
     "output_type": "execute_result"
    }
   ],
   "source": [
    "int(round(df[df['Name'].str.contains('Capt')]['Fare']))"
   ],
   "metadata": {
    "collapsed": false
   }
  },
  {
   "cell_type": "markdown",
   "source": [
    "## Задание номер 4\n",
    "##### По файлу titanic.csv определите сколько за билет заплатил капитан (колонка Fare). (Это не капитан Титаника, просто капитан какого-то корабля, который был пассажиром, смотреть нужно также по обращению)"
   ],
   "metadata": {
    "collapsed": false
   }
  },
  {
   "cell_type": "code",
   "execution_count": 4,
   "outputs": [
    {
     "data": {
      "text/plain": "                    INCIDENT_NUMBER  OFFENSE_CODE    OFFENSE_CODE_GROUP  \\\nOCCURRED_ON_DATE                                                          \n2018-09-02 13:00:00      I182070945           619               Larceny   \n2018-08-21 00:00:00      I182070943          1402             Vandalism   \n2018-09-03 19:27:00      I182070941          3410                 Towed   \n2018-09-03 21:16:00      I182070940          3114  Investigate Property   \n2018-09-03 21:05:00      I182070938          3114  Investigate Property   \n...                             ...           ...                   ...   \n2016-06-05 17:25:00   I050310906-00          3125       Warrant Arrests   \n2015-07-09 13:38:00   I030217815-08           111              Homicide   \n2015-07-09 13:38:00   I030217815-08          3125       Warrant Arrests   \n2016-05-31 19:35:00   I010370257-00          3125       Warrant Arrests   \n2015-06-22 00:12:00       142052550          3125       Warrant Arrests   \n\n                                     OFFENSE_DESCRIPTION DISTRICT  \\\nOCCURRED_ON_DATE                                                    \n2018-09-02 13:00:00                   LARCENY ALL OTHERS      D14   \n2018-08-21 00:00:00                            VANDALISM      C11   \n2018-09-03 19:27:00                  TOWED MOTOR VEHICLE       D4   \n2018-09-03 21:16:00                 INVESTIGATE PROPERTY       D4   \n2018-09-03 21:05:00                 INVESTIGATE PROPERTY       B3   \n...                                                  ...      ...   \n2016-06-05 17:25:00                       WARRANT ARREST       D4   \n2015-07-09 13:38:00  MURDER, NON-NEGLIGIENT MANSLAUGHTER      E18   \n2015-07-09 13:38:00                       WARRANT ARREST      E18   \n2016-05-31 19:35:00                       WARRANT ARREST      E13   \n2015-06-22 00:12:00                       WARRANT ARREST       D4   \n\n                    REPORTING_AREA SHOOTING  YEAR  MONTH DAY_OF_WEEK  HOUR  \\\nOCCURRED_ON_DATE                                                             \n2018-09-02 13:00:00            808      NaN  2018      9      Sunday    13   \n2018-08-21 00:00:00            347      NaN  2018      8     Tuesday     0   \n2018-09-03 19:27:00            151      NaN  2018      9      Monday    19   \n2018-09-03 21:16:00            272      NaN  2018      9      Monday    21   \n2018-09-03 21:05:00            421      NaN  2018      9      Monday    21   \n...                            ...      ...   ...    ...         ...   ...   \n2016-06-05 17:25:00            285      NaN  2016      6      Sunday    17   \n2015-07-09 13:38:00            520      NaN  2015      7    Thursday    13   \n2015-07-09 13:38:00            520      NaN  2015      7    Thursday    13   \n2016-05-31 19:35:00            569      NaN  2016      5     Tuesday    19   \n2015-06-22 00:12:00            903      NaN  2015      6      Monday     0   \n\n                       UCR_PART             STREET        Lat       Long  \\\nOCCURRED_ON_DATE                                                           \n2018-09-02 13:00:00    Part One         LINCOLN ST  42.357791 -71.139371   \n2018-08-21 00:00:00    Part Two           HECLA ST  42.306821 -71.060300   \n2018-09-03 19:27:00  Part Three        CAZENOVE ST  42.346589 -71.072429   \n2018-09-03 21:16:00  Part Three         NEWCOMB ST  42.334182 -71.078664   \n2018-09-03 21:05:00  Part Three           DELHI ST  42.275365 -71.090361   \n...                         ...                ...        ...        ...   \n2016-06-05 17:25:00  Part Three        COVENTRY ST  42.336951 -71.085748   \n2015-07-09 13:38:00    Part One           RIVER ST  42.255926 -71.123172   \n2015-07-09 13:38:00  Part Three           RIVER ST  42.255926 -71.123172   \n2016-05-31 19:35:00  Part Three  NEW WASHINGTON ST  42.302333 -71.111565   \n2015-06-22 00:12:00  Part Three      WASHINGTON ST  42.333839 -71.080290   \n\n                                        Location  \nOCCURRED_ON_DATE                                  \n2018-09-02 13:00:00  (42.35779134, -71.13937053)  \n2018-08-21 00:00:00  (42.30682138, -71.06030035)  \n2018-09-03 19:27:00  (42.34658879, -71.07242943)  \n2018-09-03 21:16:00  (42.33418175, -71.07866441)  \n2018-09-03 21:05:00  (42.27536542, -71.09036101)  \n...                                          ...  \n2016-06-05 17:25:00  (42.33695098, -71.08574813)  \n2015-07-09 13:38:00  (42.25592648, -71.12317207)  \n2015-07-09 13:38:00  (42.25592648, -71.12317207)  \n2016-05-31 19:35:00  (42.30233307, -71.11156487)  \n2015-06-22 00:12:00  (42.33383935, -71.08029038)  \n\n[319073 rows x 16 columns]",
      "text/html": "<div>\n<style scoped>\n    .dataframe tbody tr th:only-of-type {\n        vertical-align: middle;\n    }\n\n    .dataframe tbody tr th {\n        vertical-align: top;\n    }\n\n    .dataframe thead th {\n        text-align: right;\n    }\n</style>\n<table border=\"1\" class=\"dataframe\">\n  <thead>\n    <tr style=\"text-align: right;\">\n      <th></th>\n      <th>INCIDENT_NUMBER</th>\n      <th>OFFENSE_CODE</th>\n      <th>OFFENSE_CODE_GROUP</th>\n      <th>OFFENSE_DESCRIPTION</th>\n      <th>DISTRICT</th>\n      <th>REPORTING_AREA</th>\n      <th>SHOOTING</th>\n      <th>YEAR</th>\n      <th>MONTH</th>\n      <th>DAY_OF_WEEK</th>\n      <th>HOUR</th>\n      <th>UCR_PART</th>\n      <th>STREET</th>\n      <th>Lat</th>\n      <th>Long</th>\n      <th>Location</th>\n    </tr>\n    <tr>\n      <th>OCCURRED_ON_DATE</th>\n      <th></th>\n      <th></th>\n      <th></th>\n      <th></th>\n      <th></th>\n      <th></th>\n      <th></th>\n      <th></th>\n      <th></th>\n      <th></th>\n      <th></th>\n      <th></th>\n      <th></th>\n      <th></th>\n      <th></th>\n      <th></th>\n    </tr>\n  </thead>\n  <tbody>\n    <tr>\n      <th>2018-09-02 13:00:00</th>\n      <td>I182070945</td>\n      <td>619</td>\n      <td>Larceny</td>\n      <td>LARCENY ALL OTHERS</td>\n      <td>D14</td>\n      <td>808</td>\n      <td>NaN</td>\n      <td>2018</td>\n      <td>9</td>\n      <td>Sunday</td>\n      <td>13</td>\n      <td>Part One</td>\n      <td>LINCOLN ST</td>\n      <td>42.357791</td>\n      <td>-71.139371</td>\n      <td>(42.35779134, -71.13937053)</td>\n    </tr>\n    <tr>\n      <th>2018-08-21 00:00:00</th>\n      <td>I182070943</td>\n      <td>1402</td>\n      <td>Vandalism</td>\n      <td>VANDALISM</td>\n      <td>C11</td>\n      <td>347</td>\n      <td>NaN</td>\n      <td>2018</td>\n      <td>8</td>\n      <td>Tuesday</td>\n      <td>0</td>\n      <td>Part Two</td>\n      <td>HECLA ST</td>\n      <td>42.306821</td>\n      <td>-71.060300</td>\n      <td>(42.30682138, -71.06030035)</td>\n    </tr>\n    <tr>\n      <th>2018-09-03 19:27:00</th>\n      <td>I182070941</td>\n      <td>3410</td>\n      <td>Towed</td>\n      <td>TOWED MOTOR VEHICLE</td>\n      <td>D4</td>\n      <td>151</td>\n      <td>NaN</td>\n      <td>2018</td>\n      <td>9</td>\n      <td>Monday</td>\n      <td>19</td>\n      <td>Part Three</td>\n      <td>CAZENOVE ST</td>\n      <td>42.346589</td>\n      <td>-71.072429</td>\n      <td>(42.34658879, -71.07242943)</td>\n    </tr>\n    <tr>\n      <th>2018-09-03 21:16:00</th>\n      <td>I182070940</td>\n      <td>3114</td>\n      <td>Investigate Property</td>\n      <td>INVESTIGATE PROPERTY</td>\n      <td>D4</td>\n      <td>272</td>\n      <td>NaN</td>\n      <td>2018</td>\n      <td>9</td>\n      <td>Monday</td>\n      <td>21</td>\n      <td>Part Three</td>\n      <td>NEWCOMB ST</td>\n      <td>42.334182</td>\n      <td>-71.078664</td>\n      <td>(42.33418175, -71.07866441)</td>\n    </tr>\n    <tr>\n      <th>2018-09-03 21:05:00</th>\n      <td>I182070938</td>\n      <td>3114</td>\n      <td>Investigate Property</td>\n      <td>INVESTIGATE PROPERTY</td>\n      <td>B3</td>\n      <td>421</td>\n      <td>NaN</td>\n      <td>2018</td>\n      <td>9</td>\n      <td>Monday</td>\n      <td>21</td>\n      <td>Part Three</td>\n      <td>DELHI ST</td>\n      <td>42.275365</td>\n      <td>-71.090361</td>\n      <td>(42.27536542, -71.09036101)</td>\n    </tr>\n    <tr>\n      <th>...</th>\n      <td>...</td>\n      <td>...</td>\n      <td>...</td>\n      <td>...</td>\n      <td>...</td>\n      <td>...</td>\n      <td>...</td>\n      <td>...</td>\n      <td>...</td>\n      <td>...</td>\n      <td>...</td>\n      <td>...</td>\n      <td>...</td>\n      <td>...</td>\n      <td>...</td>\n      <td>...</td>\n    </tr>\n    <tr>\n      <th>2016-06-05 17:25:00</th>\n      <td>I050310906-00</td>\n      <td>3125</td>\n      <td>Warrant Arrests</td>\n      <td>WARRANT ARREST</td>\n      <td>D4</td>\n      <td>285</td>\n      <td>NaN</td>\n      <td>2016</td>\n      <td>6</td>\n      <td>Sunday</td>\n      <td>17</td>\n      <td>Part Three</td>\n      <td>COVENTRY ST</td>\n      <td>42.336951</td>\n      <td>-71.085748</td>\n      <td>(42.33695098, -71.08574813)</td>\n    </tr>\n    <tr>\n      <th>2015-07-09 13:38:00</th>\n      <td>I030217815-08</td>\n      <td>111</td>\n      <td>Homicide</td>\n      <td>MURDER, NON-NEGLIGIENT MANSLAUGHTER</td>\n      <td>E18</td>\n      <td>520</td>\n      <td>NaN</td>\n      <td>2015</td>\n      <td>7</td>\n      <td>Thursday</td>\n      <td>13</td>\n      <td>Part One</td>\n      <td>RIVER ST</td>\n      <td>42.255926</td>\n      <td>-71.123172</td>\n      <td>(42.25592648, -71.12317207)</td>\n    </tr>\n    <tr>\n      <th>2015-07-09 13:38:00</th>\n      <td>I030217815-08</td>\n      <td>3125</td>\n      <td>Warrant Arrests</td>\n      <td>WARRANT ARREST</td>\n      <td>E18</td>\n      <td>520</td>\n      <td>NaN</td>\n      <td>2015</td>\n      <td>7</td>\n      <td>Thursday</td>\n      <td>13</td>\n      <td>Part Three</td>\n      <td>RIVER ST</td>\n      <td>42.255926</td>\n      <td>-71.123172</td>\n      <td>(42.25592648, -71.12317207)</td>\n    </tr>\n    <tr>\n      <th>2016-05-31 19:35:00</th>\n      <td>I010370257-00</td>\n      <td>3125</td>\n      <td>Warrant Arrests</td>\n      <td>WARRANT ARREST</td>\n      <td>E13</td>\n      <td>569</td>\n      <td>NaN</td>\n      <td>2016</td>\n      <td>5</td>\n      <td>Tuesday</td>\n      <td>19</td>\n      <td>Part Three</td>\n      <td>NEW WASHINGTON ST</td>\n      <td>42.302333</td>\n      <td>-71.111565</td>\n      <td>(42.30233307, -71.11156487)</td>\n    </tr>\n    <tr>\n      <th>2015-06-22 00:12:00</th>\n      <td>142052550</td>\n      <td>3125</td>\n      <td>Warrant Arrests</td>\n      <td>WARRANT ARREST</td>\n      <td>D4</td>\n      <td>903</td>\n      <td>NaN</td>\n      <td>2015</td>\n      <td>6</td>\n      <td>Monday</td>\n      <td>0</td>\n      <td>Part Three</td>\n      <td>WASHINGTON ST</td>\n      <td>42.333839</td>\n      <td>-71.080290</td>\n      <td>(42.33383935, -71.08029038)</td>\n    </tr>\n  </tbody>\n</table>\n<p>319073 rows × 16 columns</p>\n</div>"
     },
     "execution_count": 4,
     "metadata": {},
     "output_type": "execute_result"
    }
   ],
   "source": [
    "df = pd.read_csv('Files/crime.csv', encoding='cp1251', delimiter=',', parse_dates=['OCCURRED_ON_DATE'], index_col='OCCURRED_ON_DATE')\n",
    "df"
   ],
   "metadata": {
    "collapsed": false
   }
  },
  {
   "cell_type": "code",
   "execution_count": 5,
   "outputs": [
    {
     "data": {
      "text/plain": "12"
     },
     "execution_count": 5,
     "metadata": {},
     "output_type": "execute_result"
    }
   ],
   "source": [
    "df[(df.index.date == pd.to_datetime('2015-06-15').date()) & (df.index.hour == 8)]['INCIDENT_NUMBER'].count()"
   ],
   "metadata": {
    "collapsed": false
   }
  },
  {
   "cell_type": "markdown",
   "source": [
    "## Задание номер 5\n",
    "##### По данным с сообщениями о преступлениях в Бостоне определите, сколько сообщений было сделано 15-го июня 2015 года в промежуток с 6 до 9 часов утра."
   ],
   "metadata": {
    "collapsed": false
   }
  },
  {
   "cell_type": "code",
   "execution_count": 6,
   "outputs": [
    {
     "data": {
      "text/plain": "22"
     },
     "execution_count": 6,
     "metadata": {},
     "output_type": "execute_result"
    }
   ],
   "source": [
    "df[(df.index.date == pd.to_datetime('2015-06-15').date()) & (df.index.hour >= 6) & (df.index.hour < 9)]['INCIDENT_NUMBER'].count()"
   ],
   "metadata": {
    "collapsed": false
   }
  },
  {
   "cell_type": "markdown",
   "source": [
    "## Задание номер 6\n",
    "##### По данным с сообщениями о преступлениях в Бостоне определите, сколько сообщений о вандализме было сделано 1-го января 2017 года."
   ],
   "metadata": {
    "collapsed": false
   }
  },
  {
   "cell_type": "code",
   "execution_count": 7,
   "outputs": [
    {
     "data": {
      "text/plain": "12"
     },
     "execution_count": 7,
     "metadata": {},
     "output_type": "execute_result"
    }
   ],
   "source": [
    "df[(df.index.date == pd.to_datetime('2017-01-01').date()) & (df.OFFENSE_CODE_GROUP == 'Vandalism')]['INCIDENT_NUMBER'].count()"
   ],
   "metadata": {
    "collapsed": false
   }
  },
  {
   "cell_type": "markdown",
   "source": [
    "## Задание номер 7\n",
    "##### По данным с сообщениями о преступлениях в Бостоне определите, день 2017 года, когда было больше всего сообщений о вандализме."
   ],
   "metadata": {
    "collapsed": false
   }
  },
  {
   "cell_type": "code",
   "execution_count": 8,
   "outputs": [
    {
     "name": "stdout",
     "output_type": "stream",
     "text": [
      "2017-05-05\n"
     ]
    }
   ],
   "source": [
    "df = pd.read_csv('Files/crime.csv', encoding='cp1251', delimiter=',', parse_dates=['OCCURRED_ON_DATE'])\n",
    "print(df[(df.YEAR == 2017) & (df.OFFENSE_CODE_GROUP == 'Vandalism')].groupby(df.OCCURRED_ON_DATE.dt.date).size().idxmax())"
   ],
   "metadata": {
    "collapsed": false
   }
  }
 ],
 "metadata": {
  "kernelspec": {
   "display_name": "Python 3",
   "language": "python",
   "name": "python3"
  },
  "language_info": {
   "codemirror_mode": {
    "name": "ipython",
    "version": 2
   },
   "file_extension": ".py",
   "mimetype": "text/x-python",
   "name": "python",
   "nbconvert_exporter": "python",
   "pygments_lexer": "ipython2",
   "version": "2.7.6"
  }
 },
 "nbformat": 4,
 "nbformat_minor": 0
}
