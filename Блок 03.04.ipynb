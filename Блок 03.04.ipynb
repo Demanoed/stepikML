{
 "cells": [
  {
   "cell_type": "markdown",
   "source": [
    "# 3.04 Тестирование по Pandas. Вторая часть\n",
    "## Задание номер 2\n",
    "##### В файле есть колонка с пропусками, напишите ее название"
   ],
   "metadata": {
    "collapsed": false
   }
  },
  {
   "cell_type": "code",
   "execution_count": 1,
   "outputs": [
    {
     "data": {
      "text/plain": "                      date             userName                    title  \\\n0      2017-09-08 11:58:17               Mika 👽  Dieser nervige Button 😂   \n1      2017-09-06 15:32:26               Bilux1                Super App   \n2      2021-01-08 22:31:30         Leberkasbepi                  Tschüss   \n3      2019-01-15 12:18:55             1an--na1   Gehört jzt zu facebook   \n4      2020-05-24 13:51:44     Bykslmddislnsvsj                        .   \n...                    ...                  ...                      ...   \n10583  2011-06-22 11:57:44           Pamzwamz23                    Wowza   \n10584  2011-06-20 21:17:51  I love you so much.    tom the talking cat 2   \n10585  2011-06-01 07:09:11              Asantha            Excellent app   \n10586  2011-05-30 21:46:39        Frank Pittari         Worst game ever!   \n10587  2011-05-28 21:26:48           gotcha2day                Mega jump   \n\n       rating  isEdited                                             review  \\\n0           5     False  Sehr gute App, erfüllt Ihren Zweck. Finde so g...   \n1           5     False                            Bester Messenger Dienst   \n2           1     False  Wegen den neuen Richtlinien, werd ich WhatsApp...   \n3           1     False                      Furchtbare datenschutzpolitik   \n4           4     False  Wäre org wenn’s eine Abstimmungs-Funktion für ...   \n...       ...       ...                                                ...   \n10583       5     False  This is a pretty gd game my sister told me to ...   \n10584       5     False  I loved it how its soooo funny and it is much ...   \n10585       5     False      Try this for your self.great for greetings!!!   \n10586       5     False           It suck u have to buy all these add-ons.   \n10587       5     False                               7ou2d mega jump code   \n\n                crawled_at                                                url  \\\n0      2021-02-21 10:15:43  https://apps.apple.com/at/app/whatsapp-messeng...   \n1      2021-02-21 10:15:43  https://apps.apple.com/at/app/whatsapp-messeng...   \n2      2021-02-21 10:15:43  https://apps.apple.com/at/app/whatsapp-messeng...   \n3      2021-02-21 10:15:43  https://apps.apple.com/at/app/whatsapp-messeng...   \n4      2021-02-21 10:15:43  https://apps.apple.com/at/app/whatsapp-messeng...   \n...                    ...                                                ...   \n10583  2021-02-20 23:53:35  https://apps.apple.com/au/app/talking-tom-cat-...   \n10584  2021-02-20 23:53:35  https://apps.apple.com/au/app/talking-tom-cat-...   \n10585  2021-02-20 23:53:35  https://apps.apple.com/au/app/talking-tom-cat-...   \n10586  2021-02-20 23:53:35  https://apps.apple.com/au/app/talking-tom-cat-...   \n10587  2021-02-20 23:53:35  https://apps.apple.com/au/app/talking-tom-cat-...   \n\n          app_id country            app_name  \\\n0      310633997      at  whatsapp-messenger   \n1      310633997      at  whatsapp-messenger   \n2      310633997      at  whatsapp-messenger   \n3      310633997      at  whatsapp-messenger   \n4      310633997      at  whatsapp-messenger   \n...          ...     ...                 ...   \n10583  421997825      au   talking-tom-cat-2   \n10584  421997825      au   talking-tom-cat-2   \n10585  421997825      au   talking-tom-cat-2   \n10586  421997825      au   talking-tom-cat-2   \n10587  421997825      au   talking-tom-cat-2   \n\n                                        _id developerResponse  \n0      32f9ec7e-74de-578d-acf6-48d4182cae60               NaN  \n1      f89a85f6-437e-53f4-acd0-adda3ae5ab2e               NaN  \n2      65adfbd9-dbab-5ba8-8d40-d84dc7e8f515               NaN  \n3      da48ad1c-3977-5e9d-8d74-c84f62ec1830               NaN  \n4      eefd7e92-a6d2-55de-b14b-b00002fa8380               NaN  \n...                                     ...               ...  \n10583  a278daaa-1ec3-529c-a77e-405bb17ffba9               NaN  \n10584  7588b673-8630-5918-a053-069154a603dc               NaN  \n10585  73874b2c-c079-5782-b4ba-df59c1becf0a               NaN  \n10586  d7a16ad6-a4ab-5fdc-b959-d2442673600a               NaN  \n10587  c70db674-a243-580a-9ba7-92cd233888eb               NaN  \n\n[10588 rows x 13 columns]",
      "text/html": "<div>\n<style scoped>\n    .dataframe tbody tr th:only-of-type {\n        vertical-align: middle;\n    }\n\n    .dataframe tbody tr th {\n        vertical-align: top;\n    }\n\n    .dataframe thead th {\n        text-align: right;\n    }\n</style>\n<table border=\"1\" class=\"dataframe\">\n  <thead>\n    <tr style=\"text-align: right;\">\n      <th></th>\n      <th>date</th>\n      <th>userName</th>\n      <th>title</th>\n      <th>rating</th>\n      <th>isEdited</th>\n      <th>review</th>\n      <th>crawled_at</th>\n      <th>url</th>\n      <th>app_id</th>\n      <th>country</th>\n      <th>app_name</th>\n      <th>_id</th>\n      <th>developerResponse</th>\n    </tr>\n  </thead>\n  <tbody>\n    <tr>\n      <th>0</th>\n      <td>2017-09-08 11:58:17</td>\n      <td>Mika 👽</td>\n      <td>Dieser nervige Button 😂</td>\n      <td>5</td>\n      <td>False</td>\n      <td>Sehr gute App, erfüllt Ihren Zweck. Finde so g...</td>\n      <td>2021-02-21 10:15:43</td>\n      <td>https://apps.apple.com/at/app/whatsapp-messeng...</td>\n      <td>310633997</td>\n      <td>at</td>\n      <td>whatsapp-messenger</td>\n      <td>32f9ec7e-74de-578d-acf6-48d4182cae60</td>\n      <td>NaN</td>\n    </tr>\n    <tr>\n      <th>1</th>\n      <td>2017-09-06 15:32:26</td>\n      <td>Bilux1</td>\n      <td>Super App</td>\n      <td>5</td>\n      <td>False</td>\n      <td>Bester Messenger Dienst</td>\n      <td>2021-02-21 10:15:43</td>\n      <td>https://apps.apple.com/at/app/whatsapp-messeng...</td>\n      <td>310633997</td>\n      <td>at</td>\n      <td>whatsapp-messenger</td>\n      <td>f89a85f6-437e-53f4-acd0-adda3ae5ab2e</td>\n      <td>NaN</td>\n    </tr>\n    <tr>\n      <th>2</th>\n      <td>2021-01-08 22:31:30</td>\n      <td>Leberkasbepi</td>\n      <td>Tschüss</td>\n      <td>1</td>\n      <td>False</td>\n      <td>Wegen den neuen Richtlinien, werd ich WhatsApp...</td>\n      <td>2021-02-21 10:15:43</td>\n      <td>https://apps.apple.com/at/app/whatsapp-messeng...</td>\n      <td>310633997</td>\n      <td>at</td>\n      <td>whatsapp-messenger</td>\n      <td>65adfbd9-dbab-5ba8-8d40-d84dc7e8f515</td>\n      <td>NaN</td>\n    </tr>\n    <tr>\n      <th>3</th>\n      <td>2019-01-15 12:18:55</td>\n      <td>1an--na1</td>\n      <td>Gehört jzt zu facebook</td>\n      <td>1</td>\n      <td>False</td>\n      <td>Furchtbare datenschutzpolitik</td>\n      <td>2021-02-21 10:15:43</td>\n      <td>https://apps.apple.com/at/app/whatsapp-messeng...</td>\n      <td>310633997</td>\n      <td>at</td>\n      <td>whatsapp-messenger</td>\n      <td>da48ad1c-3977-5e9d-8d74-c84f62ec1830</td>\n      <td>NaN</td>\n    </tr>\n    <tr>\n      <th>4</th>\n      <td>2020-05-24 13:51:44</td>\n      <td>Bykslmddislnsvsj</td>\n      <td>.</td>\n      <td>4</td>\n      <td>False</td>\n      <td>Wäre org wenn’s eine Abstimmungs-Funktion für ...</td>\n      <td>2021-02-21 10:15:43</td>\n      <td>https://apps.apple.com/at/app/whatsapp-messeng...</td>\n      <td>310633997</td>\n      <td>at</td>\n      <td>whatsapp-messenger</td>\n      <td>eefd7e92-a6d2-55de-b14b-b00002fa8380</td>\n      <td>NaN</td>\n    </tr>\n    <tr>\n      <th>...</th>\n      <td>...</td>\n      <td>...</td>\n      <td>...</td>\n      <td>...</td>\n      <td>...</td>\n      <td>...</td>\n      <td>...</td>\n      <td>...</td>\n      <td>...</td>\n      <td>...</td>\n      <td>...</td>\n      <td>...</td>\n      <td>...</td>\n    </tr>\n    <tr>\n      <th>10583</th>\n      <td>2011-06-22 11:57:44</td>\n      <td>Pamzwamz23</td>\n      <td>Wowza</td>\n      <td>5</td>\n      <td>False</td>\n      <td>This is a pretty gd game my sister told me to ...</td>\n      <td>2021-02-20 23:53:35</td>\n      <td>https://apps.apple.com/au/app/talking-tom-cat-...</td>\n      <td>421997825</td>\n      <td>au</td>\n      <td>talking-tom-cat-2</td>\n      <td>a278daaa-1ec3-529c-a77e-405bb17ffba9</td>\n      <td>NaN</td>\n    </tr>\n    <tr>\n      <th>10584</th>\n      <td>2011-06-20 21:17:51</td>\n      <td>I love you so much.</td>\n      <td>tom the talking cat 2</td>\n      <td>5</td>\n      <td>False</td>\n      <td>I loved it how its soooo funny and it is much ...</td>\n      <td>2021-02-20 23:53:35</td>\n      <td>https://apps.apple.com/au/app/talking-tom-cat-...</td>\n      <td>421997825</td>\n      <td>au</td>\n      <td>talking-tom-cat-2</td>\n      <td>7588b673-8630-5918-a053-069154a603dc</td>\n      <td>NaN</td>\n    </tr>\n    <tr>\n      <th>10585</th>\n      <td>2011-06-01 07:09:11</td>\n      <td>Asantha</td>\n      <td>Excellent app</td>\n      <td>5</td>\n      <td>False</td>\n      <td>Try this for your self.great for greetings!!!</td>\n      <td>2021-02-20 23:53:35</td>\n      <td>https://apps.apple.com/au/app/talking-tom-cat-...</td>\n      <td>421997825</td>\n      <td>au</td>\n      <td>talking-tom-cat-2</td>\n      <td>73874b2c-c079-5782-b4ba-df59c1becf0a</td>\n      <td>NaN</td>\n    </tr>\n    <tr>\n      <th>10586</th>\n      <td>2011-05-30 21:46:39</td>\n      <td>Frank Pittari</td>\n      <td>Worst game ever!</td>\n      <td>5</td>\n      <td>False</td>\n      <td>It suck u have to buy all these add-ons.</td>\n      <td>2021-02-20 23:53:35</td>\n      <td>https://apps.apple.com/au/app/talking-tom-cat-...</td>\n      <td>421997825</td>\n      <td>au</td>\n      <td>talking-tom-cat-2</td>\n      <td>d7a16ad6-a4ab-5fdc-b959-d2442673600a</td>\n      <td>NaN</td>\n    </tr>\n    <tr>\n      <th>10587</th>\n      <td>2011-05-28 21:26:48</td>\n      <td>gotcha2day</td>\n      <td>Mega jump</td>\n      <td>5</td>\n      <td>False</td>\n      <td>7ou2d mega jump code</td>\n      <td>2021-02-20 23:53:35</td>\n      <td>https://apps.apple.com/au/app/talking-tom-cat-...</td>\n      <td>421997825</td>\n      <td>au</td>\n      <td>talking-tom-cat-2</td>\n      <td>c70db674-a243-580a-9ba7-92cd233888eb</td>\n      <td>NaN</td>\n    </tr>\n  </tbody>\n</table>\n<p>10588 rows × 13 columns</p>\n</div>"
     },
     "execution_count": 1,
     "metadata": {},
     "output_type": "execute_result"
    }
   ],
   "source": [
    "import pandas as pd\n",
    "df = pd.read_csv('Files/app_store_reviews.csv', encoding='utf-8', delimiter=',')\n",
    "df"
   ],
   "metadata": {
    "collapsed": false
   }
  },
  {
   "cell_type": "code",
   "execution_count": 2,
   "outputs": [
    {
     "name": "stdout",
     "output_type": "stream",
     "text": [
      "developerResponse\n"
     ]
    }
   ],
   "source": [
    "print(df.isna().sum().idxmax())"
   ],
   "metadata": {
    "collapsed": false
   }
  },
  {
   "cell_type": "markdown",
   "source": [
    "## Задание номер 3\n",
    "##### Определите кол-во пятерок для приложения whatsapp-messenger"
   ],
   "metadata": {
    "collapsed": false
   }
  },
  {
   "cell_type": "code",
   "execution_count": 3,
   "outputs": [
    {
     "data": {
      "text/plain": "4504"
     },
     "execution_count": 3,
     "metadata": {},
     "output_type": "execute_result"
    }
   ],
   "source": [
    "df[(df.app_name == 'whatsapp-messenger') & (df.rating == 5)].app_name.count()"
   ],
   "metadata": {
    "collapsed": false
   }
  },
  {
   "cell_type": "markdown",
   "source": [
    "## Задание номер 4\n",
    "##### Посчитайте среднюю оценку для приложения talking-tom-cat-2"
   ],
   "metadata": {
    "collapsed": false
   }
  },
  {
   "cell_type": "code",
   "execution_count": 4,
   "outputs": [
    {
     "data": {
      "text/plain": "4.623682579045258"
     },
     "execution_count": 4,
     "metadata": {},
     "output_type": "execute_result"
    }
   ],
   "source": [
    "df[(df.app_name == 'talking-tom-cat-2')].rating.mean()"
   ],
   "metadata": {
    "collapsed": false
   }
  },
  {
   "cell_type": "markdown",
   "source": [
    "## Задание номер 5\n",
    "##### Определите кол-во непустых записей в столбце developerResponse"
   ],
   "metadata": {
    "collapsed": false
   }
  },
  {
   "cell_type": "code",
   "execution_count": 5,
   "outputs": [
    {
     "data": {
      "text/plain": "51"
     },
     "execution_count": 5,
     "metadata": {},
     "output_type": "execute_result"
    }
   ],
   "source": [
    "df.developerResponse.count()"
   ],
   "metadata": {
    "collapsed": false
   }
  },
  {
   "cell_type": "markdown",
   "source": [
    "## Задание номер 6\n",
    "##### Определите приложение с наибольшей средней оценкой"
   ],
   "metadata": {
    "collapsed": false
   }
  },
  {
   "cell_type": "code",
   "execution_count": 6,
   "outputs": [
    {
     "name": "stdout",
     "output_type": "stream",
     "text": [
      "talking-tom-cat-2\n"
     ]
    }
   ],
   "source": [
    "print(df.groupby('app_name')['rating'].mean().idxmax())"
   ],
   "metadata": {
    "collapsed": false
   }
  },
  {
   "cell_type": "markdown",
   "source": [
    "## Задание номер 7\n",
    "##### Найдите самый длинный отзыв и прикрепите его в качестве ответа. В качестве меры длины используете кол-во слов. Словом считайте все что отделено пробелом"
   ],
   "metadata": {
    "collapsed": false
   }
  },
  {
   "cell_type": "code",
   "execution_count": 7,
   "outputs": [
    {
     "name": "stdout",
     "output_type": "stream",
     "text": [
      "Noch nie habe ich eine App gehabt, die so viele Funktionen in sich vereint! Kostenlose Nachrichten, Videos, Standorte, Sprachnachrichten, und bald soll man auch VoIP nutzen können! Am meisten fasziniert mich jedoch eine Funktion, die mein Leben wesentlich erleichtert hat und die ich nie mehr missen möchte: Die Datenweiterleitungsfunktion! Ich brauche keine Wunschliste mehr an das Christkind zu senden, denn WhatsApp findet automatisch heraus, was ich mir wünsche und leitet es in Echtzeit weiter! Wenn ich einmal eine Telefonnummer nicht mehr weiß oder unabsichtlich gelöscht habe, dann ist WhatsApp der Retter in Not, denn es hat vorsorglich alle meine Telefonkontakte abgegriffen und auf speziell gesicherten Servern im Ausland gespeichert! Ich bin sogar überzeugt, dass WhatsApp dieses Service bald erweitert, und zukünftig auch von Fotos, Nachrichten und Sprachnachrichten eine verschlüsselte Datensicherung durchführt, um dem Nutzer immer helfen zu können, wenn mal etwas verloren geht! Angeblich speichert WhatsApp auch Standorte, um diesen im Notfall rasch an Rettungsorganisationen weitergeben zu können. Leider gibt es immer wieder Menschen, die Gerüchte verbreiten und behaupten, WhatsApp verwende alle diese gesammelten Daten, nur um viel Geld damit zu verdienen, das stimmt aber alles nicht! WhatsApp ist sehr seriös und missbraucht mit Sicherheit keine Daten, gerade nach dem Zusammenschluss mit Facebook kann man sich sehr sicher sein, dass mit den Daten sehr sorgsam umgegangen wird, bei Facebook wurde Datensicherheit ja immer sehr groß geschrieben und nie sowas verkauft, nur um Geld damit zu verdienen! Alles in Allem bin ich sehr zufrieden mit der App und würde mit wünschen, dass demnächst auch die Gesundheitsdaten gespeichert werden, ELGA ist mir nämlich zu unsicher, denn da liegen die Daten auf österr. Servern, man weiß ja schließlich nie, an wen die Regierung meine Daten weiterverkauft um den Budgetüberschuss noch einmal größer zu machen! Als ob wir hier zu wenig Geld hätten, das ist doch lächerlich! Wir sind schließlich das reichste Land der Welt ;-).\n"
     ]
    }
   ],
   "source": [
    "print(df.loc[df.review.str.count(' ').idxmax()].review)"
   ],
   "metadata": {
    "collapsed": false
   }
  },
  {
   "cell_type": "markdown",
   "source": [
    "## Задание нормер 8\n",
    "##### Определите среднее кол-во слов в отзыве. Ответ округлите до целого"
   ],
   "metadata": {
    "collapsed": false
   }
  },
  {
   "cell_type": "code",
   "execution_count": 8,
   "outputs": [
    {
     "data": {
      "text/plain": "15"
     },
     "execution_count": 8,
     "metadata": {},
     "output_type": "execute_result"
    }
   ],
   "source": [
    "int(round(df.review.str.split(' ').str.len().mean() + 0.5))"
   ],
   "metadata": {
    "collapsed": false
   }
  },
  {
   "cell_type": "markdown",
   "source": [
    "## Задание номер 9\n",
    "##### Данные собирались в три шага, поэтому в колонке crawled_at три разных значения, напишите самую раннюю дату оттуда в формате:\n",
    "\n",
    "###### 2019-11-29"
   ],
   "metadata": {
    "collapsed": false
   }
  },
  {
   "cell_type": "code",
   "execution_count": 9,
   "outputs": [
    {
     "name": "stdout",
     "output_type": "stream",
     "text": [
      "2021-02-20\n"
     ]
    }
   ],
   "source": [
    "df['crawled_at'] = pd.to_datetime(df['crawled_at'])\n",
    "print(df['crawled_at'].min().strftime('%Y-%m-%d'))"
   ],
   "metadata": {
    "collapsed": false
   }
  },
  {
   "cell_type": "markdown",
   "source": [
    "## Задание номер 10\n",
    "##### На каком из этапов данных было собрано больше всего (колонка crawled_at)"
   ],
   "metadata": {
    "collapsed": false
   }
  },
  {
   "cell_type": "code",
   "execution_count": 10,
   "outputs": [
    {
     "name": "stdout",
     "output_type": "stream",
     "text": [
      "2021-02-21 10:15:44\n"
     ]
    }
   ],
   "source": [
    "print(df.groupby('crawled_at').size().idxmax())"
   ],
   "metadata": {
    "collapsed": false
   }
  },
  {
   "cell_type": "markdown",
   "source": [
    "## Задание номер 11\n",
    "##### Определите медианную оценку для приложения talking-tom-cat-2"
   ],
   "metadata": {
    "collapsed": false
   }
  },
  {
   "cell_type": "code",
   "execution_count": 11,
   "outputs": [
    {
     "data": {
      "text/plain": "5"
     },
     "execution_count": 11,
     "metadata": {},
     "output_type": "execute_result"
    }
   ],
   "source": [
    "int(df[df.app_name == 'talking-tom-cat-2'].rating.median())"
   ],
   "metadata": {
    "collapsed": false
   }
  }
 ],
 "metadata": {
  "kernelspec": {
   "display_name": "Python 3",
   "language": "python",
   "name": "python3"
  },
  "language_info": {
   "codemirror_mode": {
    "name": "ipython",
    "version": 2
   },
   "file_extension": ".py",
   "mimetype": "text/x-python",
   "name": "python",
   "nbconvert_exporter": "python",
   "pygments_lexer": "ipython2",
   "version": "2.7.6"
  }
 },
 "nbformat": 4,
 "nbformat_minor": 0
}
