{
 "cells": [
  {
   "cell_type": "markdown",
   "source": [
    "# 2.16 Pandas. Продолжаем работу с датами\n",
    "## Задание номер 2\n",
    "##### По файлу определите кол-во видов товаров в булочной"
   ],
   "metadata": {
    "collapsed": false
   }
  },
  {
   "cell_type": "code",
   "execution_count": 1,
   "outputs": [
    {
     "data": {
      "text/plain": "       TransactionNo          Items             DateTime\n0                  1          Bread  2016-10-30 09:58:11\n1                  2   Scandinavian  2016-10-30 10:05:34\n2                  2   Scandinavian  2016-10-30 10:05:34\n3                  3  Hot chocolate  2016-10-30 10:07:57\n4                  3            Jam  2016-10-30 10:07:57\n...              ...            ...                  ...\n20502           9682         Coffee  2017-09-04 14:32:58\n20503           9682            Tea  2017-09-04 14:32:58\n20504           9683         Coffee  2017-09-04 14:57:06\n20505           9683         Pastry  2017-09-04 14:57:06\n20506           9684      Smoothies  2017-09-04 15:04:24\n\n[20507 rows x 3 columns]",
      "text/html": "<div>\n<style scoped>\n    .dataframe tbody tr th:only-of-type {\n        vertical-align: middle;\n    }\n\n    .dataframe tbody tr th {\n        vertical-align: top;\n    }\n\n    .dataframe thead th {\n        text-align: right;\n    }\n</style>\n<table border=\"1\" class=\"dataframe\">\n  <thead>\n    <tr style=\"text-align: right;\">\n      <th></th>\n      <th>TransactionNo</th>\n      <th>Items</th>\n      <th>DateTime</th>\n    </tr>\n  </thead>\n  <tbody>\n    <tr>\n      <th>0</th>\n      <td>1</td>\n      <td>Bread</td>\n      <td>2016-10-30 09:58:11</td>\n    </tr>\n    <tr>\n      <th>1</th>\n      <td>2</td>\n      <td>Scandinavian</td>\n      <td>2016-10-30 10:05:34</td>\n    </tr>\n    <tr>\n      <th>2</th>\n      <td>2</td>\n      <td>Scandinavian</td>\n      <td>2016-10-30 10:05:34</td>\n    </tr>\n    <tr>\n      <th>3</th>\n      <td>3</td>\n      <td>Hot chocolate</td>\n      <td>2016-10-30 10:07:57</td>\n    </tr>\n    <tr>\n      <th>4</th>\n      <td>3</td>\n      <td>Jam</td>\n      <td>2016-10-30 10:07:57</td>\n    </tr>\n    <tr>\n      <th>...</th>\n      <td>...</td>\n      <td>...</td>\n      <td>...</td>\n    </tr>\n    <tr>\n      <th>20502</th>\n      <td>9682</td>\n      <td>Coffee</td>\n      <td>2017-09-04 14:32:58</td>\n    </tr>\n    <tr>\n      <th>20503</th>\n      <td>9682</td>\n      <td>Tea</td>\n      <td>2017-09-04 14:32:58</td>\n    </tr>\n    <tr>\n      <th>20504</th>\n      <td>9683</td>\n      <td>Coffee</td>\n      <td>2017-09-04 14:57:06</td>\n    </tr>\n    <tr>\n      <th>20505</th>\n      <td>9683</td>\n      <td>Pastry</td>\n      <td>2017-09-04 14:57:06</td>\n    </tr>\n    <tr>\n      <th>20506</th>\n      <td>9684</td>\n      <td>Smoothies</td>\n      <td>2017-09-04 15:04:24</td>\n    </tr>\n  </tbody>\n</table>\n<p>20507 rows × 3 columns</p>\n</div>"
     },
     "execution_count": 1,
     "metadata": {},
     "output_type": "execute_result"
    }
   ],
   "source": [
    "import pandas as pd\n",
    "df = pd.read_csv('Files/bakery.csv', encoding='utf-8', delimiter=',')\n",
    "df"
   ],
   "metadata": {
    "collapsed": false
   }
  },
  {
   "cell_type": "code",
   "execution_count": 2,
   "outputs": [
    {
     "data": {
      "text/plain": "94"
     },
     "execution_count": 2,
     "metadata": {},
     "output_type": "execute_result"
    }
   ],
   "source": [
    "df['Items'].nunique()"
   ],
   "metadata": {
    "collapsed": false
   }
  },
  {
   "cell_type": "markdown",
   "source": [
    "## Задание номер 3\n",
    "##### По файлу определите сколько чая (Tea) было продано в булочной за все время"
   ],
   "metadata": {
    "collapsed": false
   }
  },
  {
   "cell_type": "code",
   "execution_count": 3,
   "outputs": [
    {
     "data": {
      "text/plain": "1435"
     },
     "execution_count": 3,
     "metadata": {},
     "output_type": "execute_result"
    }
   ],
   "source": [
    "df[df.Items == 'Tea'].Items.count()"
   ],
   "metadata": {
    "collapsed": false
   }
  },
  {
   "cell_type": "markdown",
   "source": [
    "## Задание номер 4\n",
    "##### По файлу определите сколько покупок было совершено первого мая 2017 года.\n",
    "\n",
    "###### Кол-во покупок != кол-во строк\n",
    "\n",
    "###### Кол-во покупок == Кол-во уникальных значений TransactionNo"
   ],
   "metadata": {
    "collapsed": false
   }
  },
  {
   "cell_type": "code",
   "execution_count": 4,
   "outputs": [
    {
     "data": {
      "text/plain": "50"
     },
     "execution_count": 4,
     "metadata": {},
     "output_type": "execute_result"
    }
   ],
   "source": [
    "df[df.DateTime.str.contains('2017-05-01')].TransactionNo.nunique()"
   ],
   "metadata": {
    "collapsed": false
   }
  },
  {
   "cell_type": "markdown",
   "source": [
    "## Задание номер 5\n",
    "##### По файлу определите, сколько покупок было совершено в понедельники. Для этого:\n",
    "\n",
    "###### -Преобразуйте колонку в тип datetime\n",
    "###### -Создайте новую колонку, в которой будет информация о том, являлся ли день покупки понедельником\n",
    "###### -Посчитайте кол-во уникальных значений в TransactionNo - это и будет кол-во покупок"
   ],
   "metadata": {
    "collapsed": false
   }
  },
  {
   "cell_type": "code",
   "execution_count": 5,
   "outputs": [
    {
     "data": {
      "text/plain": "       TransactionNo          Items            DateTime  Is_Monday\n0                  1          Bread 2016-10-30 09:58:11      False\n1                  2   Scandinavian 2016-10-30 10:05:34      False\n2                  2   Scandinavian 2016-10-30 10:05:34      False\n3                  3  Hot chocolate 2016-10-30 10:07:57      False\n4                  3            Jam 2016-10-30 10:07:57      False\n...              ...            ...                 ...        ...\n20502           9682         Coffee 2017-09-04 14:32:58       True\n20503           9682            Tea 2017-09-04 14:32:58       True\n20504           9683         Coffee 2017-09-04 14:57:06       True\n20505           9683         Pastry 2017-09-04 14:57:06       True\n20506           9684      Smoothies 2017-09-04 15:04:24       True\n\n[20507 rows x 4 columns]",
      "text/html": "<div>\n<style scoped>\n    .dataframe tbody tr th:only-of-type {\n        vertical-align: middle;\n    }\n\n    .dataframe tbody tr th {\n        vertical-align: top;\n    }\n\n    .dataframe thead th {\n        text-align: right;\n    }\n</style>\n<table border=\"1\" class=\"dataframe\">\n  <thead>\n    <tr style=\"text-align: right;\">\n      <th></th>\n      <th>TransactionNo</th>\n      <th>Items</th>\n      <th>DateTime</th>\n      <th>Is_Monday</th>\n    </tr>\n  </thead>\n  <tbody>\n    <tr>\n      <th>0</th>\n      <td>1</td>\n      <td>Bread</td>\n      <td>2016-10-30 09:58:11</td>\n      <td>False</td>\n    </tr>\n    <tr>\n      <th>1</th>\n      <td>2</td>\n      <td>Scandinavian</td>\n      <td>2016-10-30 10:05:34</td>\n      <td>False</td>\n    </tr>\n    <tr>\n      <th>2</th>\n      <td>2</td>\n      <td>Scandinavian</td>\n      <td>2016-10-30 10:05:34</td>\n      <td>False</td>\n    </tr>\n    <tr>\n      <th>3</th>\n      <td>3</td>\n      <td>Hot chocolate</td>\n      <td>2016-10-30 10:07:57</td>\n      <td>False</td>\n    </tr>\n    <tr>\n      <th>4</th>\n      <td>3</td>\n      <td>Jam</td>\n      <td>2016-10-30 10:07:57</td>\n      <td>False</td>\n    </tr>\n    <tr>\n      <th>...</th>\n      <td>...</td>\n      <td>...</td>\n      <td>...</td>\n      <td>...</td>\n    </tr>\n    <tr>\n      <th>20502</th>\n      <td>9682</td>\n      <td>Coffee</td>\n      <td>2017-09-04 14:32:58</td>\n      <td>True</td>\n    </tr>\n    <tr>\n      <th>20503</th>\n      <td>9682</td>\n      <td>Tea</td>\n      <td>2017-09-04 14:32:58</td>\n      <td>True</td>\n    </tr>\n    <tr>\n      <th>20504</th>\n      <td>9683</td>\n      <td>Coffee</td>\n      <td>2017-09-04 14:57:06</td>\n      <td>True</td>\n    </tr>\n    <tr>\n      <th>20505</th>\n      <td>9683</td>\n      <td>Pastry</td>\n      <td>2017-09-04 14:57:06</td>\n      <td>True</td>\n    </tr>\n    <tr>\n      <th>20506</th>\n      <td>9684</td>\n      <td>Smoothies</td>\n      <td>2017-09-04 15:04:24</td>\n      <td>True</td>\n    </tr>\n  </tbody>\n</table>\n<p>20507 rows × 4 columns</p>\n</div>"
     },
     "execution_count": 5,
     "metadata": {},
     "output_type": "execute_result"
    }
   ],
   "source": [
    "df.DateTime = pd.to_datetime(df.DateTime)\n",
    "df['Is_Monday'] = df.DateTime.dt.dayofweek == 0\n",
    "df"
   ],
   "metadata": {
    "collapsed": false
   }
  },
  {
   "cell_type": "code",
   "execution_count": 6,
   "outputs": [
    {
     "data": {
      "text/plain": "1441"
     },
     "execution_count": 6,
     "metadata": {},
     "output_type": "execute_result"
    }
   ],
   "source": [
    "df[df.Is_Monday].TransactionNo.nunique()"
   ],
   "metadata": {
    "collapsed": false
   }
  },
  {
   "cell_type": "markdown",
   "source": [
    "## Задание номер 6\n",
    "##### По файлу определите, сколько покупок было совершено в выходные. Для этого:\n",
    "\n",
    "###### -Преобразуйте колонку в тип datetime\n",
    "###### -Создайте новую колонку, в которой будет информация о том, являлся ли день покупки выходным\n",
    "###### -Посчитайте кол-во уникальных значений в TransactionNo - это и будет кол-во покупок"
   ],
   "metadata": {
    "collapsed": false
   }
  },
  {
   "cell_type": "code",
   "execution_count": 7,
   "outputs": [
    {
     "data": {
      "text/plain": "       TransactionNo          Items            DateTime  Is_Monday  Is_Holiday\n0                  1          Bread 2016-10-30 09:58:11      False        True\n1                  2   Scandinavian 2016-10-30 10:05:34      False        True\n2                  2   Scandinavian 2016-10-30 10:05:34      False        True\n3                  3  Hot chocolate 2016-10-30 10:07:57      False        True\n4                  3            Jam 2016-10-30 10:07:57      False        True\n...              ...            ...                 ...        ...         ...\n20502           9682         Coffee 2017-09-04 14:32:58       True       False\n20503           9682            Tea 2017-09-04 14:32:58       True       False\n20504           9683         Coffee 2017-09-04 14:57:06       True       False\n20505           9683         Pastry 2017-09-04 14:57:06       True       False\n20506           9684      Smoothies 2017-09-04 15:04:24       True       False\n\n[20507 rows x 5 columns]",
      "text/html": "<div>\n<style scoped>\n    .dataframe tbody tr th:only-of-type {\n        vertical-align: middle;\n    }\n\n    .dataframe tbody tr th {\n        vertical-align: top;\n    }\n\n    .dataframe thead th {\n        text-align: right;\n    }\n</style>\n<table border=\"1\" class=\"dataframe\">\n  <thead>\n    <tr style=\"text-align: right;\">\n      <th></th>\n      <th>TransactionNo</th>\n      <th>Items</th>\n      <th>DateTime</th>\n      <th>Is_Monday</th>\n      <th>Is_Holiday</th>\n    </tr>\n  </thead>\n  <tbody>\n    <tr>\n      <th>0</th>\n      <td>1</td>\n      <td>Bread</td>\n      <td>2016-10-30 09:58:11</td>\n      <td>False</td>\n      <td>True</td>\n    </tr>\n    <tr>\n      <th>1</th>\n      <td>2</td>\n      <td>Scandinavian</td>\n      <td>2016-10-30 10:05:34</td>\n      <td>False</td>\n      <td>True</td>\n    </tr>\n    <tr>\n      <th>2</th>\n      <td>2</td>\n      <td>Scandinavian</td>\n      <td>2016-10-30 10:05:34</td>\n      <td>False</td>\n      <td>True</td>\n    </tr>\n    <tr>\n      <th>3</th>\n      <td>3</td>\n      <td>Hot chocolate</td>\n      <td>2016-10-30 10:07:57</td>\n      <td>False</td>\n      <td>True</td>\n    </tr>\n    <tr>\n      <th>4</th>\n      <td>3</td>\n      <td>Jam</td>\n      <td>2016-10-30 10:07:57</td>\n      <td>False</td>\n      <td>True</td>\n    </tr>\n    <tr>\n      <th>...</th>\n      <td>...</td>\n      <td>...</td>\n      <td>...</td>\n      <td>...</td>\n      <td>...</td>\n    </tr>\n    <tr>\n      <th>20502</th>\n      <td>9682</td>\n      <td>Coffee</td>\n      <td>2017-09-04 14:32:58</td>\n      <td>True</td>\n      <td>False</td>\n    </tr>\n    <tr>\n      <th>20503</th>\n      <td>9682</td>\n      <td>Tea</td>\n      <td>2017-09-04 14:32:58</td>\n      <td>True</td>\n      <td>False</td>\n    </tr>\n    <tr>\n      <th>20504</th>\n      <td>9683</td>\n      <td>Coffee</td>\n      <td>2017-09-04 14:57:06</td>\n      <td>True</td>\n      <td>False</td>\n    </tr>\n    <tr>\n      <th>20505</th>\n      <td>9683</td>\n      <td>Pastry</td>\n      <td>2017-09-04 14:57:06</td>\n      <td>True</td>\n      <td>False</td>\n    </tr>\n    <tr>\n      <th>20506</th>\n      <td>9684</td>\n      <td>Smoothies</td>\n      <td>2017-09-04 15:04:24</td>\n      <td>True</td>\n      <td>False</td>\n    </tr>\n  </tbody>\n</table>\n<p>20507 rows × 5 columns</p>\n</div>"
     },
     "execution_count": 7,
     "metadata": {},
     "output_type": "execute_result"
    }
   ],
   "source": [
    "# 0 - пн\n",
    "# 1 - вт\n",
    "# 2 - ср\n",
    "# 3 - чт\n",
    "# 4 - пт\n",
    "# 5 - сб\n",
    "# 6 - вс\n",
    "\n",
    "df['Is_Holiday'] = (df.DateTime.dt.dayofweek == 5) | (df.DateTime.dt.dayofweek == 6)\n",
    "df"
   ],
   "metadata": {
    "collapsed": false
   }
  },
  {
   "cell_type": "code",
   "execution_count": 8,
   "outputs": [
    {
     "data": {
      "text/plain": "2962"
     },
     "execution_count": 8,
     "metadata": {},
     "output_type": "execute_result"
    }
   ],
   "source": [
    "df[df.Is_Holiday].TransactionNo.nunique()"
   ],
   "metadata": {
    "collapsed": false
   }
  },
  {
   "cell_type": "markdown",
   "source": [
    "## Задание номер 7\n",
    "##### По файлу определите, в какой месяц какого года совершилось наибольшее кол-во покупок (TransactionNo)\n",
    "\n",
    "###### -Преобразуйте колонку в тип datetime и сделайте ее индексом датафрейма\n",
    "###### -Сделайте resample с периодичностью в 1 месяц\n",
    "###### -Посчитайте кол-во уникальных значений в TransactionNo - это и будет кол-во покупок в каждом месяце\n",
    "###### -Найдите в результате месяц где покупок больше всего\n",
    "\n",
    "##### Ответ запишите в формате YYYY-MM"
   ],
   "metadata": {
    "collapsed": false
   }
  },
  {
   "cell_type": "code",
   "execution_count": 9,
   "outputs": [
    {
     "name": "stdout",
     "output_type": "stream",
     "text": [
      "2017-03\n"
     ]
    }
   ],
   "source": [
    "df = df.set_index('DateTime')\n",
    "print(df.resample('M').nunique().TransactionNo.idxmax().strftime('%Y-%m'))"
   ],
   "metadata": {
    "collapsed": false
   }
  },
  {
   "cell_type": "markdown",
   "source": [
    "## Задание номер 9\n",
    "##### По файлу определите на какой адрес такси вызывали наибольшее кол-во раз"
   ],
   "metadata": {
    "collapsed": false
   }
  },
  {
   "cell_type": "code",
   "execution_count": 10,
   "outputs": [
    {
     "data": {
      "text/plain": "            DATE         TIME                       PICK UP ADDRESS\n0       7/1/2014  12:00:00 AM         874 E 139th St Mott Haven, BX\n1       7/1/2014  12:01:00 AM         628 E 141st St Mott Haven, BX\n2       7/1/2014  12:01:00 AM        601 E 156th St South Bronx, BX\n3       7/1/2014  12:01:00 AM         708 E 138th St Mott Haven, BX\n4       7/1/2014  12:02:00 AM         700 E 140th St Mott Haven, BX\n...          ...          ...                                   ...\n91707  9/30/2014  11:47:00 PM            593 Oak Ter Mott Haven, BX\n91708  9/30/2014  11:48:00 PM   645 Westchester Ave South Bronx, BX\n91709  9/30/2014  11:51:00 PM        625 Tinton Ave South Bronx, BX\n91710  9/30/2014  11:54:00 PM     350 Saint Anns Ave Mott Haven, BX\n91711  9/30/2014  11:58:00 PM         846 Tinton Ave Morrisania, BX\n\n[91712 rows x 3 columns]",
      "text/html": "<div>\n<style scoped>\n    .dataframe tbody tr th:only-of-type {\n        vertical-align: middle;\n    }\n\n    .dataframe tbody tr th {\n        vertical-align: top;\n    }\n\n    .dataframe thead th {\n        text-align: right;\n    }\n</style>\n<table border=\"1\" class=\"dataframe\">\n  <thead>\n    <tr style=\"text-align: right;\">\n      <th></th>\n      <th>DATE</th>\n      <th>TIME</th>\n      <th>PICK UP ADDRESS</th>\n    </tr>\n  </thead>\n  <tbody>\n    <tr>\n      <th>0</th>\n      <td>7/1/2014</td>\n      <td>12:00:00 AM</td>\n      <td>874 E 139th St Mott Haven, BX</td>\n    </tr>\n    <tr>\n      <th>1</th>\n      <td>7/1/2014</td>\n      <td>12:01:00 AM</td>\n      <td>628 E 141st St Mott Haven, BX</td>\n    </tr>\n    <tr>\n      <th>2</th>\n      <td>7/1/2014</td>\n      <td>12:01:00 AM</td>\n      <td>601 E 156th St South Bronx, BX</td>\n    </tr>\n    <tr>\n      <th>3</th>\n      <td>7/1/2014</td>\n      <td>12:01:00 AM</td>\n      <td>708 E 138th St Mott Haven, BX</td>\n    </tr>\n    <tr>\n      <th>4</th>\n      <td>7/1/2014</td>\n      <td>12:02:00 AM</td>\n      <td>700 E 140th St Mott Haven, BX</td>\n    </tr>\n    <tr>\n      <th>...</th>\n      <td>...</td>\n      <td>...</td>\n      <td>...</td>\n    </tr>\n    <tr>\n      <th>91707</th>\n      <td>9/30/2014</td>\n      <td>11:47:00 PM</td>\n      <td>593 Oak Ter Mott Haven, BX</td>\n    </tr>\n    <tr>\n      <th>91708</th>\n      <td>9/30/2014</td>\n      <td>11:48:00 PM</td>\n      <td>645 Westchester Ave South Bronx, BX</td>\n    </tr>\n    <tr>\n      <th>91709</th>\n      <td>9/30/2014</td>\n      <td>11:51:00 PM</td>\n      <td>625 Tinton Ave South Bronx, BX</td>\n    </tr>\n    <tr>\n      <th>91710</th>\n      <td>9/30/2014</td>\n      <td>11:54:00 PM</td>\n      <td>350 Saint Anns Ave Mott Haven, BX</td>\n    </tr>\n    <tr>\n      <th>91711</th>\n      <td>9/30/2014</td>\n      <td>11:58:00 PM</td>\n      <td>846 Tinton Ave Morrisania, BX</td>\n    </tr>\n  </tbody>\n</table>\n<p>91712 rows × 3 columns</p>\n</div>"
     },
     "execution_count": 10,
     "metadata": {},
     "output_type": "execute_result"
    }
   ],
   "source": [
    "df = pd.read_csv('Files/uber.csv', encoding='utf-8', delimiter=',')\n",
    "df"
   ],
   "metadata": {
    "collapsed": false
   }
  },
  {
   "cell_type": "code",
   "execution_count": 11,
   "outputs": [
    {
     "name": "stdout",
     "output_type": "stream",
     "text": [
      " 400 Brook Ave Mott Haven, BX\n"
     ]
    }
   ],
   "source": [
    "print(df['PICK UP ADDRESS'].value_counts().idxmax())"
   ],
   "metadata": {
    "collapsed": false
   }
  },
  {
   "cell_type": "markdown",
   "source": [
    "## Задание номер 10\n",
    "##### По файлу определите самый загруженный день"
   ],
   "metadata": {
    "collapsed": false
   }
  },
  {
   "cell_type": "code",
   "execution_count": 12,
   "outputs": [
    {
     "name": "stdout",
     "output_type": "stream",
     "text": [
      "2014-09-13\n"
     ]
    }
   ],
   "source": [
    "df.DATE = pd.to_datetime(df.DATE)\n",
    "print(df.groupby('DATE')['PICK UP ADDRESS'].size().idxmax().strftime('%Y-%m-%d'))"
   ],
   "metadata": {
    "collapsed": false
   }
  },
  {
   "cell_type": "markdown",
   "source": [
    "## Задание номер 11\n",
    "##### По файлу определите самую загруженную неделю. В качестве ответа укажите дату последнего дня недели (resample выдает ее по умолчанию)"
   ],
   "metadata": {
    "collapsed": false
   }
  },
  {
   "cell_type": "code",
   "execution_count": 13,
   "outputs": [
    {
     "name": "stdout",
     "output_type": "stream",
     "text": [
      "2014-09-14\n"
     ]
    }
   ],
   "source": [
    "df = df.set_index('DATE')\n",
    "print(df.resample('W').nunique()['PICK UP ADDRESS'].idxmax().strftime('%Y-%m-%d'))"
   ],
   "metadata": {
    "collapsed": false
   }
  },
  {
   "cell_type": "markdown",
   "source": [
    "## Задание номер 13\n",
    "##### Напишите в какой месяц и в какой год произошло больше всего аварий"
   ],
   "metadata": {
    "collapsed": false
   }
  },
  {
   "cell_type": "code",
   "execution_count": 14,
   "outputs": [
    {
     "data": {
      "text/plain": "                  Event Description  Year Date Event Began Time Event Began  \\\n0    Severe Weather - Thunderstorms  2014        6/30/2014          8:00 PM   \n1    Severe Weather - Thunderstorms  2014        6/30/2014         11:20 PM   \n2    Severe Weather - Thunderstorms  2014        6/30/2014          5:55 PM   \n3       Physical Attack - Vandalism  2014        6/24/2014          2:54 PM   \n4       Physical Attack - Vandalism  2014        6/19/2014          8:47 AM   \n..                              ...   ...              ...              ...   \n972        Line Outages/Switch Fire  2000        6/28/2000          5:52 PM   \n973              Tripped Lines Fire  2000        6/14/2000          3:54 PM   \n974          Transmission Line Loss  2000        3/18/2000          7:08 PM   \n975          Transmission Line Loss  2000        3/18/2000          4:00 PM   \n976                       Ice Storm  2000        1/29/2000         10:00 PM   \n\n    Date of Restoration Time of Restoration  \\\n0              7/2/2014             6:30 PM   \n1              7/1/2014             5:00 PM   \n2              7/1/2014             2:53 AM   \n3             6/24/2014             2:55 PM   \n4             6/19/2014             8:48 AM   \n..                  ...                 ...   \n972           6/28/2000          7:14:00 PM   \n973           6/14/2000          5:00:00 PM   \n974           3/18/2000          7:08:00 PM   \n975           3/18/2000          5:10:00 PM   \n976            2/3/2000         12:00:00 PM   \n\n                                  Respondent           Geographic Areas  \\\n0                   Exelon Corporation/ComEd                   Illinois   \n1    Northern Indiana Public Service Company      North Central Indiana   \n2                                We Energies       Southeast  Wisconsin   \n3                 Tennessee Valley Authority       Nashville, Tennessee   \n4                 Tennessee Valley Authority       Nashville, Tennessee   \n..                                       ...                        ...   \n972      Virginia Power/North Carolina Power  Virginia & North Carolina   \n973                    Tucson Electric Power                    Arizona   \n974             Public Service of New Mexico                 New Mexico   \n975                        El Paso Elec. Co.                      Texas   \n976                           Duke Power Co.             South Carolina   \n\n    NERC Region Demand Loss (MW) Number of Customers Affected  \\\n0           RFC          Unknown                      420,000   \n1           RFC          Unknown                      127,000   \n2           MRO              424                      120,000   \n3          SERC          Unknown                      Unknown   \n4          SERC          Unknown                      Unknown   \n..          ...              ...                          ...   \n972        SERC              175                       30,500   \n973        WECC              138                       40,911   \n974        WECC            1,040                      500,000   \n975        MAIN              400                      100,000   \n976        SERC              300                       81,000   \n\n                                     Tags  \n0            severe weather, thunderstorm  \n1            severe weather, thunderstorm  \n2            severe weather, thunderstorm  \n3                     vandalism, physical  \n4                     vandalism, physical  \n..                                    ...  \n972  wild fire, transmission interruption  \n973  wild fire, transmission interruption  \n974             transmission interruption  \n975             transmission interruption  \n976          severe weather, winter storm  \n\n[977 rows x 12 columns]",
      "text/html": "<div>\n<style scoped>\n    .dataframe tbody tr th:only-of-type {\n        vertical-align: middle;\n    }\n\n    .dataframe tbody tr th {\n        vertical-align: top;\n    }\n\n    .dataframe thead th {\n        text-align: right;\n    }\n</style>\n<table border=\"1\" class=\"dataframe\">\n  <thead>\n    <tr style=\"text-align: right;\">\n      <th></th>\n      <th>Event Description</th>\n      <th>Year</th>\n      <th>Date Event Began</th>\n      <th>Time Event Began</th>\n      <th>Date of Restoration</th>\n      <th>Time of Restoration</th>\n      <th>Respondent</th>\n      <th>Geographic Areas</th>\n      <th>NERC Region</th>\n      <th>Demand Loss (MW)</th>\n      <th>Number of Customers Affected</th>\n      <th>Tags</th>\n    </tr>\n  </thead>\n  <tbody>\n    <tr>\n      <th>0</th>\n      <td>Severe Weather - Thunderstorms</td>\n      <td>2014</td>\n      <td>6/30/2014</td>\n      <td>8:00 PM</td>\n      <td>7/2/2014</td>\n      <td>6:30 PM</td>\n      <td>Exelon Corporation/ComEd</td>\n      <td>Illinois</td>\n      <td>RFC</td>\n      <td>Unknown</td>\n      <td>420,000</td>\n      <td>severe weather, thunderstorm</td>\n    </tr>\n    <tr>\n      <th>1</th>\n      <td>Severe Weather - Thunderstorms</td>\n      <td>2014</td>\n      <td>6/30/2014</td>\n      <td>11:20 PM</td>\n      <td>7/1/2014</td>\n      <td>5:00 PM</td>\n      <td>Northern Indiana Public Service Company</td>\n      <td>North Central Indiana</td>\n      <td>RFC</td>\n      <td>Unknown</td>\n      <td>127,000</td>\n      <td>severe weather, thunderstorm</td>\n    </tr>\n    <tr>\n      <th>2</th>\n      <td>Severe Weather - Thunderstorms</td>\n      <td>2014</td>\n      <td>6/30/2014</td>\n      <td>5:55 PM</td>\n      <td>7/1/2014</td>\n      <td>2:53 AM</td>\n      <td>We Energies</td>\n      <td>Southeast  Wisconsin</td>\n      <td>MRO</td>\n      <td>424</td>\n      <td>120,000</td>\n      <td>severe weather, thunderstorm</td>\n    </tr>\n    <tr>\n      <th>3</th>\n      <td>Physical Attack - Vandalism</td>\n      <td>2014</td>\n      <td>6/24/2014</td>\n      <td>2:54 PM</td>\n      <td>6/24/2014</td>\n      <td>2:55 PM</td>\n      <td>Tennessee Valley Authority</td>\n      <td>Nashville, Tennessee</td>\n      <td>SERC</td>\n      <td>Unknown</td>\n      <td>Unknown</td>\n      <td>vandalism, physical</td>\n    </tr>\n    <tr>\n      <th>4</th>\n      <td>Physical Attack - Vandalism</td>\n      <td>2014</td>\n      <td>6/19/2014</td>\n      <td>8:47 AM</td>\n      <td>6/19/2014</td>\n      <td>8:48 AM</td>\n      <td>Tennessee Valley Authority</td>\n      <td>Nashville, Tennessee</td>\n      <td>SERC</td>\n      <td>Unknown</td>\n      <td>Unknown</td>\n      <td>vandalism, physical</td>\n    </tr>\n    <tr>\n      <th>...</th>\n      <td>...</td>\n      <td>...</td>\n      <td>...</td>\n      <td>...</td>\n      <td>...</td>\n      <td>...</td>\n      <td>...</td>\n      <td>...</td>\n      <td>...</td>\n      <td>...</td>\n      <td>...</td>\n      <td>...</td>\n    </tr>\n    <tr>\n      <th>972</th>\n      <td>Line Outages/Switch Fire</td>\n      <td>2000</td>\n      <td>6/28/2000</td>\n      <td>5:52 PM</td>\n      <td>6/28/2000</td>\n      <td>7:14:00 PM</td>\n      <td>Virginia Power/North Carolina Power</td>\n      <td>Virginia &amp; North Carolina</td>\n      <td>SERC</td>\n      <td>175</td>\n      <td>30,500</td>\n      <td>wild fire, transmission interruption</td>\n    </tr>\n    <tr>\n      <th>973</th>\n      <td>Tripped Lines Fire</td>\n      <td>2000</td>\n      <td>6/14/2000</td>\n      <td>3:54 PM</td>\n      <td>6/14/2000</td>\n      <td>5:00:00 PM</td>\n      <td>Tucson Electric Power</td>\n      <td>Arizona</td>\n      <td>WECC</td>\n      <td>138</td>\n      <td>40,911</td>\n      <td>wild fire, transmission interruption</td>\n    </tr>\n    <tr>\n      <th>974</th>\n      <td>Transmission Line Loss</td>\n      <td>2000</td>\n      <td>3/18/2000</td>\n      <td>7:08 PM</td>\n      <td>3/18/2000</td>\n      <td>7:08:00 PM</td>\n      <td>Public Service of New Mexico</td>\n      <td>New Mexico</td>\n      <td>WECC</td>\n      <td>1,040</td>\n      <td>500,000</td>\n      <td>transmission interruption</td>\n    </tr>\n    <tr>\n      <th>975</th>\n      <td>Transmission Line Loss</td>\n      <td>2000</td>\n      <td>3/18/2000</td>\n      <td>4:00 PM</td>\n      <td>3/18/2000</td>\n      <td>5:10:00 PM</td>\n      <td>El Paso Elec. Co.</td>\n      <td>Texas</td>\n      <td>MAIN</td>\n      <td>400</td>\n      <td>100,000</td>\n      <td>transmission interruption</td>\n    </tr>\n    <tr>\n      <th>976</th>\n      <td>Ice Storm</td>\n      <td>2000</td>\n      <td>1/29/2000</td>\n      <td>10:00 PM</td>\n      <td>2/3/2000</td>\n      <td>12:00:00 PM</td>\n      <td>Duke Power Co.</td>\n      <td>South Carolina</td>\n      <td>SERC</td>\n      <td>300</td>\n      <td>81,000</td>\n      <td>severe weather, winter storm</td>\n    </tr>\n  </tbody>\n</table>\n<p>977 rows × 12 columns</p>\n</div>"
     },
     "execution_count": 14,
     "metadata": {},
     "output_type": "execute_result"
    }
   ],
   "source": [
    "df = pd.read_csv('Files/disruptions.csv', encoding='utf-8', delimiter=',')\n",
    "df"
   ],
   "metadata": {
    "collapsed": false
   }
  },
  {
   "cell_type": "code",
   "execution_count": 15,
   "outputs": [
    {
     "name": "stdout",
     "output_type": "stream",
     "text": [
      "2012-10\n"
     ]
    }
   ],
   "source": [
    "df['Date Event Began'] = pd.to_datetime(df['Date Event Began'])\n",
    "df = df.set_index('Date Event Began')\n",
    "print(df.resample('M').nunique()['Date of Restoration'].idxmax().strftime('%Y-%m'))"
   ],
   "metadata": {
    "collapsed": false
   }
  },
  {
   "cell_type": "markdown",
   "source": [
    "## Задание номер 14\n",
    "##### В какой месяц и год среднее время устранения аварии было минимальным. Ответ запишите в таком формате:\n",
    "###### 2015-12"
   ],
   "metadata": {
    "collapsed": false
   }
  },
  {
   "cell_type": "code",
   "execution_count": 16,
   "outputs": [
    {
     "name": "stdout",
     "output_type": "stream",
     "text": [
      "2005-04\n"
     ]
    }
   ],
   "source": [
    "df = pd.read_csv('Files/disruptions.csv', encoding='utf-8', delimiter=',')\n",
    "df['Began DateTime'] = pd.to_datetime(df['Date Event Began'] + ' ' + df['Time Event Began'])\n",
    "df['Restoration DateTime'] = pd.to_datetime(df['Date of Restoration'] + ' ' + df['Time of Restoration'])\n",
    "df['Average Time To Eliminate The Accident'] = abs(df['Restoration DateTime'] - df['Began DateTime'])\n",
    "df = df.set_index('Began DateTime')\n",
    "print(df.resample('M')['Average Time To Eliminate The Accident'].mean().idxmin().strftime('%Y-%m'))"
   ],
   "metadata": {
    "collapsed": false
   }
  }
 ],
 "metadata": {
  "kernelspec": {
   "display_name": "Python 3",
   "language": "python",
   "name": "python3"
  },
  "language_info": {
   "codemirror_mode": {
    "name": "ipython",
    "version": 2
   },
   "file_extension": ".py",
   "mimetype": "text/x-python",
   "name": "python",
   "nbconvert_exporter": "python",
   "pygments_lexer": "ipython2",
   "version": "2.7.6"
  }
 },
 "nbformat": 4,
 "nbformat_minor": 0
}
