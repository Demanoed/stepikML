{
 "cells": [
  {
   "cell_type": "markdown",
   "source": [
    "# 2.6 Подготовка к тестированию\n",
    "## Задание номер 3\n",
    "##### Проанализируйте данные о некоторых землетрясениях и найдите дату и время самого мощного среди представленных.\n",
    "\n",
    "##### В файле лежат две колонки date (время землетрясения) и magnitude (значения силы землетрясения по шкале Рихтера)."
   ],
   "metadata": {
    "collapsed": false
   }
  },
  {
   "cell_type": "code",
   "execution_count": 1,
   "outputs": [
    {
     "data": {
      "text/plain": "                   date  magnitude\n0   08/07/1966 17:36:12       6.35\n1   11/22/1974 16:25:34       5.55\n2   02/26/1975 08:00:05       5.50\n3   08/01/1975 20:20:05       5.70\n4   11/26/1976 11:19:32       6.30\n..                  ...        ...\n60  04/02/2016 05:50:00       5.90\n61  07/23/2016 09:59:01       5.60\n62  12/28/2016 08:18:01       5.60\n63  12/28/2016 08:22:12       5.60\n64  12/28/2016 09:13:47       5.50\n\n[65 rows x 2 columns]",
      "text/html": "<div>\n<style scoped>\n    .dataframe tbody tr th:only-of-type {\n        vertical-align: middle;\n    }\n\n    .dataframe tbody tr th {\n        vertical-align: top;\n    }\n\n    .dataframe thead th {\n        text-align: right;\n    }\n</style>\n<table border=\"1\" class=\"dataframe\">\n  <thead>\n    <tr style=\"text-align: right;\">\n      <th></th>\n      <th>date</th>\n      <th>magnitude</th>\n    </tr>\n  </thead>\n  <tbody>\n    <tr>\n      <th>0</th>\n      <td>08/07/1966 17:36:12</td>\n      <td>6.35</td>\n    </tr>\n    <tr>\n      <th>1</th>\n      <td>11/22/1974 16:25:34</td>\n      <td>5.55</td>\n    </tr>\n    <tr>\n      <th>2</th>\n      <td>02/26/1975 08:00:05</td>\n      <td>5.50</td>\n    </tr>\n    <tr>\n      <th>3</th>\n      <td>08/01/1975 20:20:05</td>\n      <td>5.70</td>\n    </tr>\n    <tr>\n      <th>4</th>\n      <td>11/26/1976 11:19:32</td>\n      <td>6.30</td>\n    </tr>\n    <tr>\n      <th>...</th>\n      <td>...</td>\n      <td>...</td>\n    </tr>\n    <tr>\n      <th>60</th>\n      <td>04/02/2016 05:50:00</td>\n      <td>5.90</td>\n    </tr>\n    <tr>\n      <th>61</th>\n      <td>07/23/2016 09:59:01</td>\n      <td>5.60</td>\n    </tr>\n    <tr>\n      <th>62</th>\n      <td>12/28/2016 08:18:01</td>\n      <td>5.60</td>\n    </tr>\n    <tr>\n      <th>63</th>\n      <td>12/28/2016 08:22:12</td>\n      <td>5.60</td>\n    </tr>\n    <tr>\n      <th>64</th>\n      <td>12/28/2016 09:13:47</td>\n      <td>5.50</td>\n    </tr>\n  </tbody>\n</table>\n<p>65 rows × 2 columns</p>\n</div>"
     },
     "execution_count": 1,
     "metadata": {},
     "output_type": "execute_result"
    }
   ],
   "source": [
    "import pandas as pd\n",
    "df = pd.read_csv('Files/earthquakes.csv', encoding='cp1251', delimiter=',')\n",
    "df"
   ],
   "metadata": {
    "collapsed": false
   }
  },
  {
   "cell_type": "code",
   "execution_count": 2,
   "outputs": [
    {
     "name": "stdout",
     "output_type": "stream",
     "text": [
      "05/02/1983 23:42:38\n"
     ]
    }
   ],
   "source": [
    "max_earthquake = df.sort_values(by=['magnitude'], ascending=False)\n",
    "print(max_earthquake.iloc[0]['date'])"
   ],
   "metadata": {
    "collapsed": false
   }
  },
  {
   "cell_type": "markdown",
   "source": [
    "## Задание номер 4\n",
    "##### По файлу посчитайте кол-во победителей финальных олимпиад (stage = 4) по математике"
   ],
   "metadata": {
    "collapsed": false
   }
  },
  {
   "cell_type": "code",
   "execution_count": 3,
   "outputs": [
    {
     "data": {
      "text/plain": "                                                FullName  \\\n0      Государственное бюджетное общеобразовательное ...   \n1      Государственное бюджетное общеобразовательное ...   \n2      Государственное бюджетное общеобразовательное ...   \n3      Государственное бюджетное образовательное учре...   \n4      Государственное бюджетное образовательное учре...   \n...                                                  ...   \n74223  Государственное бюджетное образовательное учре...   \n74224  Государственное бюджетное образовательное учре...   \n74225  Некоммерческое общеобразовательное частное учр...   \n74226  Некоммерческое общеобразовательное частное учр...   \n74227  Некоммерческое общеобразовательное частное учр...   \n\n                                   ShortName             OlympiadType Stage  \\\n0                  ГБОУ лицей «Вторая школа»  Всероссийская олимпиада     3   \n1                  ГБОУ лицей «Вторая школа»  Всероссийская олимпиада     3   \n2                  ГБОУ лицей «Вторая школа»  Всероссийская олимпиада     3   \n3                              ГБОУ СОШ № 26  Всероссийская олимпиада     4   \n4                              ГБОУ СОШ № 26  Всероссийская олимпиада     3   \n...                                      ...                      ...   ...   \n74223             ГБОУ «Лицей «Вторая школа»  Всероссийская олимпиада     4   \n74224             ГБОУ «Лицей «Вторая школа»  Всероссийская олимпиада     4   \n74225  НОЧУ «Британская международная школа»  Всероссийская олимпиада     3   \n74226  НОЧУ «Британская международная школа»  Всероссийская олимпиада     3   \n74227  НОЧУ «Британская международная школа»  Всероссийская олимпиада     3   \n\n      Class                              Subject      Status       Year  \\\n0        11   Иностранный язык (английский язык)      призёр  2012/2013   \n1        11   Иностранный язык (английский язык)      призёр  2012/2013   \n2        10   Иностранный язык (английский язык)      призёр  2012/2013   \n3        11   Иностранный язык (английский язык)  победитель  2012/2013   \n4        11   Иностранный язык (английский язык)      призёр  2012/2013   \n...     ...                                  ...         ...        ...   \n74223    11                           астрономия      призёр  2019/2020   \n74224    11                           астрономия      призёр  2019/2020   \n74225    10  Иностранный язык (французский язык)      призёр  2019/2020   \n74226    10   Иностранный язык (английский язык)      призёр  2019/2020   \n74227    10   Иностранный язык (английский язык)      призёр  2019/2020   \n\n        global_id  \n0         4472939  \n1         4472940  \n2         4472941  \n3         4472942  \n4         4472943  \n...           ...  \n74223  1060253195  \n74224  1060253196  \n74225  1060253198  \n74226  1060253199  \n74227  1060253200  \n\n[74228 rows x 9 columns]",
      "text/html": "<div>\n<style scoped>\n    .dataframe tbody tr th:only-of-type {\n        vertical-align: middle;\n    }\n\n    .dataframe tbody tr th {\n        vertical-align: top;\n    }\n\n    .dataframe thead th {\n        text-align: right;\n    }\n</style>\n<table border=\"1\" class=\"dataframe\">\n  <thead>\n    <tr style=\"text-align: right;\">\n      <th></th>\n      <th>FullName</th>\n      <th>ShortName</th>\n      <th>OlympiadType</th>\n      <th>Stage</th>\n      <th>Class</th>\n      <th>Subject</th>\n      <th>Status</th>\n      <th>Year</th>\n      <th>global_id</th>\n    </tr>\n  </thead>\n  <tbody>\n    <tr>\n      <th>0</th>\n      <td>Государственное бюджетное общеобразовательное ...</td>\n      <td>ГБОУ лицей «Вторая школа»</td>\n      <td>Всероссийская олимпиада</td>\n      <td>3</td>\n      <td>11</td>\n      <td>Иностранный язык (английский язык)</td>\n      <td>призёр</td>\n      <td>2012/2013</td>\n      <td>4472939</td>\n    </tr>\n    <tr>\n      <th>1</th>\n      <td>Государственное бюджетное общеобразовательное ...</td>\n      <td>ГБОУ лицей «Вторая школа»</td>\n      <td>Всероссийская олимпиада</td>\n      <td>3</td>\n      <td>11</td>\n      <td>Иностранный язык (английский язык)</td>\n      <td>призёр</td>\n      <td>2012/2013</td>\n      <td>4472940</td>\n    </tr>\n    <tr>\n      <th>2</th>\n      <td>Государственное бюджетное общеобразовательное ...</td>\n      <td>ГБОУ лицей «Вторая школа»</td>\n      <td>Всероссийская олимпиада</td>\n      <td>3</td>\n      <td>10</td>\n      <td>Иностранный язык (английский язык)</td>\n      <td>призёр</td>\n      <td>2012/2013</td>\n      <td>4472941</td>\n    </tr>\n    <tr>\n      <th>3</th>\n      <td>Государственное бюджетное образовательное учре...</td>\n      <td>ГБОУ СОШ № 26</td>\n      <td>Всероссийская олимпиада</td>\n      <td>4</td>\n      <td>11</td>\n      <td>Иностранный язык (английский язык)</td>\n      <td>победитель</td>\n      <td>2012/2013</td>\n      <td>4472942</td>\n    </tr>\n    <tr>\n      <th>4</th>\n      <td>Государственное бюджетное образовательное учре...</td>\n      <td>ГБОУ СОШ № 26</td>\n      <td>Всероссийская олимпиада</td>\n      <td>3</td>\n      <td>11</td>\n      <td>Иностранный язык (английский язык)</td>\n      <td>призёр</td>\n      <td>2012/2013</td>\n      <td>4472943</td>\n    </tr>\n    <tr>\n      <th>...</th>\n      <td>...</td>\n      <td>...</td>\n      <td>...</td>\n      <td>...</td>\n      <td>...</td>\n      <td>...</td>\n      <td>...</td>\n      <td>...</td>\n      <td>...</td>\n    </tr>\n    <tr>\n      <th>74223</th>\n      <td>Государственное бюджетное образовательное учре...</td>\n      <td>ГБОУ «Лицей «Вторая школа»</td>\n      <td>Всероссийская олимпиада</td>\n      <td>4</td>\n      <td>11</td>\n      <td>астрономия</td>\n      <td>призёр</td>\n      <td>2019/2020</td>\n      <td>1060253195</td>\n    </tr>\n    <tr>\n      <th>74224</th>\n      <td>Государственное бюджетное образовательное учре...</td>\n      <td>ГБОУ «Лицей «Вторая школа»</td>\n      <td>Всероссийская олимпиада</td>\n      <td>4</td>\n      <td>11</td>\n      <td>астрономия</td>\n      <td>призёр</td>\n      <td>2019/2020</td>\n      <td>1060253196</td>\n    </tr>\n    <tr>\n      <th>74225</th>\n      <td>Некоммерческое общеобразовательное частное учр...</td>\n      <td>НОЧУ «Британская международная школа»</td>\n      <td>Всероссийская олимпиада</td>\n      <td>3</td>\n      <td>10</td>\n      <td>Иностранный язык (французский язык)</td>\n      <td>призёр</td>\n      <td>2019/2020</td>\n      <td>1060253198</td>\n    </tr>\n    <tr>\n      <th>74226</th>\n      <td>Некоммерческое общеобразовательное частное учр...</td>\n      <td>НОЧУ «Британская международная школа»</td>\n      <td>Всероссийская олимпиада</td>\n      <td>3</td>\n      <td>10</td>\n      <td>Иностранный язык (английский язык)</td>\n      <td>призёр</td>\n      <td>2019/2020</td>\n      <td>1060253199</td>\n    </tr>\n    <tr>\n      <th>74227</th>\n      <td>Некоммерческое общеобразовательное частное учр...</td>\n      <td>НОЧУ «Британская международная школа»</td>\n      <td>Всероссийская олимпиада</td>\n      <td>3</td>\n      <td>10</td>\n      <td>Иностранный язык (английский язык)</td>\n      <td>призёр</td>\n      <td>2019/2020</td>\n      <td>1060253200</td>\n    </tr>\n  </tbody>\n</table>\n<p>74228 rows × 9 columns</p>\n</div>"
     },
     "execution_count": 3,
     "metadata": {},
     "output_type": "execute_result"
    }
   ],
   "source": [
    "df = pd.read_csv('Files/moscow schools - winners.csv', encoding='utf-8', delimiter=',')\n",
    "df"
   ],
   "metadata": {
    "collapsed": false
   }
  },
  {
   "cell_type": "code",
   "execution_count": 4,
   "outputs": [
    {
     "data": {
      "text/plain": "46"
     },
     "execution_count": 4,
     "metadata": {},
     "output_type": "execute_result"
    }
   ],
   "source": [
    "len(df[(df['Stage'] == '4') & (df['Subject'] == 'Математика') & (df['Status'] == 'победитель')])"
   ],
   "metadata": {
    "collapsed": false
   }
  }
 ],
 "metadata": {
  "kernelspec": {
   "display_name": "Python 3",
   "language": "python",
   "name": "python3"
  },
  "language_info": {
   "codemirror_mode": {
    "name": "ipython",
    "version": 2
   },
   "file_extension": ".py",
   "mimetype": "text/x-python",
   "name": "python",
   "nbconvert_exporter": "python",
   "pygments_lexer": "ipython2",
   "version": "2.7.6"
  }
 },
 "nbformat": 4,
 "nbformat_minor": 0
}
