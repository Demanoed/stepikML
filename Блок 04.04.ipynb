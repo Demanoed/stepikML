{
 "cells": [
  {
   "cell_type": "markdown",
   "source": [
    "# 4.04 Задача классификации. Деревья решений\n",
    "## Задание номер 1\n",
    "##### Для данного датасета обучите дерево решений (для обучения используйте массивы с ключами x, y), затем предскажите классы для данных доступных в файле по ключу x_test.\n",
    "##### В качестве ответа запишите метку класса - 1 или 0"
   ],
   "metadata": {
    "collapsed": false
   }
  },
  {
   "cell_type": "code",
   "execution_count": 1,
   "outputs": [
    {
     "data": {
      "text/plain": "['x', 'y', 'x_test']"
     },
     "execution_count": 1,
     "metadata": {},
     "output_type": "execute_result"
    }
   ],
   "source": [
    "import numpy as np\n",
    "data = np.load('Files/train_data_zad_04.04.01.npz')\n",
    "data.files"
   ],
   "metadata": {
    "collapsed": false
   }
  },
  {
   "cell_type": "code",
   "execution_count": 2,
   "outputs": [
    {
     "name": "stdout",
     "output_type": "stream",
     "text": [
      "[1 1 0 1 1 0 1 1 1 1]\n"
     ]
    }
   ],
   "source": [
    "from sklearn import tree\n",
    "print(tree.DecisionTreeClassifier().fit(data['x'], data['y']).predict(data['x_test']))"
   ],
   "metadata": {
    "collapsed": false
   }
  }
 ],
 "metadata": {
  "kernelspec": {
   "display_name": "Python 3",
   "language": "python",
   "name": "python3"
  },
  "language_info": {
   "codemirror_mode": {
    "name": "ipython",
    "version": 2
   },
   "file_extension": ".py",
   "mimetype": "text/x-python",
   "name": "python",
   "nbconvert_exporter": "python",
   "pygments_lexer": "ipython2",
   "version": "2.7.6"
  }
 },
 "nbformat": 4,
 "nbformat_minor": 0
}
