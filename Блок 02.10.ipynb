{
 "cells": [
  {
   "cell_type": "markdown",
   "source": [
    "# 2.10 Numpy. Стресс-тест)\n",
    "## Задание номер 1\n",
    "##### По файлу определите среднее арифметическое в первой, двадцатой и последней колонке. Числа округлите до целого и запишите через пробел"
   ],
   "metadata": {
    "collapsed": false
   }
  },
  {
   "cell_type": "code",
   "execution_count": 1,
   "outputs": [
    {
     "name": "stdout",
     "output_type": "stream",
     "text": [
      "49 49 50\n"
     ]
    }
   ],
   "source": [
    "import numpy as np\n",
    "df = np.loadtxt('Files/array.txt', usecols=(0, 19, -1), delimiter=' ', dtype=float)\n",
    "print(*df.mean(axis=0).astype(int))"
   ],
   "metadata": {
    "collapsed": false
   }
  },
  {
   "cell_type": "markdown",
   "source": [
    "## Задание номер 2\n",
    "##### По файлу определите среднее арифметическое в первой, тридцатой и последней строчке. Числа округлите до целого и запишите через пробел"
   ],
   "metadata": {
    "collapsed": false
   }
  },
  {
   "cell_type": "code",
   "execution_count": 2,
   "outputs": [
    {
     "name": "stdout",
     "output_type": "stream",
     "text": [
      "50 49 49\n"
     ]
    }
   ],
   "source": [
    "df = np.load('Files/array2.npy')\n",
    "print(int(np.mean(df[0])), int(np.mean(df[30])), int(np.mean(df[-1])))"
   ],
   "metadata": {
    "collapsed": false
   }
  },
  {
   "cell_type": "markdown",
   "source": [
    "## Задание номер 3\n",
    "##### В файле содержится информация о избирателях некоторого округа, записанные в три массива names, surnames и ages. Определите кол-во уникальных имён содержащихся в файле"
   ],
   "metadata": {
    "collapsed": false
   }
  },
  {
   "cell_type": "code",
   "execution_count": 3,
   "outputs": [
    {
     "name": "stdout",
     "output_type": "stream",
     "text": [
      "9\n"
     ]
    }
   ],
   "source": [
    "df = np.load('Files/data.npz')\n",
    "print(len(np.unique(df['names'])))"
   ],
   "metadata": {
    "collapsed": false
   }
  },
  {
   "cell_type": "markdown",
   "source": [
    "## Задание номер 4\n",
    "##### В файле содержится информация о избирателях некоторого округа, записанные в три массива names, surnames и ages. Определите кол-во избирателей старше 50 лет"
   ],
   "metadata": {
    "collapsed": false
   }
  },
  {
   "cell_type": "code",
   "execution_count": 4,
   "outputs": [
    {
     "data": {
      "text/plain": "535"
     },
     "execution_count": 4,
     "metadata": {},
     "output_type": "execute_result"
    }
   ],
   "source": [
    "df = np.load('Files/data.npz')\n",
    "count = 0\n",
    "for item in df['ages']:\n",
    "    if (item > 50):\n",
    "        count += 1\n",
    "count"
   ],
   "metadata": {
    "collapsed": false
   }
  },
  {
   "cell_type": "markdown",
   "source": [
    "## Задание номер 5\n",
    "##### В файле содержится информация о избирателях некоторого округа, записанные в три массива names, surnames и ages. Определите кол-во избирателей c фамилией Smith, именем John и возрастом младше 40."
   ],
   "metadata": {
    "collapsed": false
   }
  },
  {
   "cell_type": "code",
   "execution_count": 5,
   "outputs": [
    {
     "data": {
      "text/plain": "3"
     },
     "execution_count": 5,
     "metadata": {},
     "output_type": "execute_result"
    }
   ],
   "source": [
    "df = np.load('Files/data.npz')\n",
    "sum((df['names'] == 'John') & (df['surnames'] == 'Smith') & (df['ages'] < 40))"
   ],
   "metadata": {
    "collapsed": false
   }
  }
 ],
 "metadata": {
  "kernelspec": {
   "display_name": "Python 3",
   "language": "python",
   "name": "python3"
  },
  "language_info": {
   "codemirror_mode": {
    "name": "ipython",
    "version": 2
   },
   "file_extension": ".py",
   "mimetype": "text/x-python",
   "name": "python",
   "nbconvert_exporter": "python",
   "pygments_lexer": "ipython2",
   "version": "2.7.6"
  }
 },
 "nbformat": 4,
 "nbformat_minor": 0
}
