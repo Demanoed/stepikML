{
 "cells": [
  {
   "cell_type": "markdown",
   "source": [
    "# Проект по дисциплине \"Машинное обучение\"\n",
    "### Трефилов Дмитрий Александрович ИАУП-22\n",
    "Датасет для проекта содержит распарсенные данные о квартирах в разных регионах в количестве 10000 записей с сайта Циан.\n",
    "\n",
    "В распарсенной таблице присутствуют такие поля:\n",
    "CIANID - уникальный номер объявления на сайте\n",
    "ID - URL\n",
    "HOUSE_ID_ACV2 - уникальный номер адреса\n",
    "STATUS - статус\n",
    "PRICE_SQM - цена кв. м\n",
    "BARGAINTERMS_PRICE - цена\n",
    "BARGAINTERMS_PRICE_START - цена старта\n",
    "BARGAINTERMS_PRICE_MAX - цена максимальная\n",
    "BARGAINTERMS_PRICE_MIN - цена минимальная\n",
    "BARGAINTERMS_CURRENCY - валюта цены\n",
    "CREATIONDATE - дата создания\n",
    "LAST_ACTIVITY_DATE - дата последнего действия\n",
    "CLOSING_REASON - причина снятия\n",
    "BARGAINTERMS_SALETYPE - тип договора\n",
    "GEO_JK_NAME - название ЖК\n",
    "GEO_JK_ID - уникальный номер ЖК\n",
    "GEO_JK_HOUSE_NAME - название корпуса\n",
    "GEO_JK_HOUSE_ID - уникальный номер корпуса\n",
    "ROOMSCOUNT - число комнат\n",
    "TOTALAREA - площадь общая\n",
    "LIVINGAREA - площадь жилая\n",
    "KITCHENAREA - площадь кухни\n",
    "FLOORNUMBER - этаж\n",
    "JK_HOUSE_FLAT_SECTIONNUMBER - секция\n",
    "JK_HOUSE_FLAT_FLATNUMBER - номер на этаже\n",
    "JK_HOUSE_FLAT_FLATTYPE - тип помещения\n",
    "DECORATION - отделка\n",
    "REPAIRTYPE - ремонт\n",
    "COMBINEDWCSCOUNT - санузлов совмещенных\n",
    "SEPARATEWCSCOUNT - санузлов раздельных\n",
    "BALCONIESCOUNT - балконов\n",
    "LOGGIASCOUNT - лоджий\n",
    "ALLROOMSAREA - метражи комнат\n",
    "UNDERGROUNDS_NAME_0 - метро\n",
    "UNDERGROUNDS_TIME_0 - метро время\n",
    "UNDERGROUNDS_TRANSPORTTYPE_0 - метро тип доступности\n",
    "ISAPARTMENTS - апартамент\n",
    "ISPENTHOUSE - пентхаус\n",
    "PUBLISHEDUSERID - уникальный номер продавца\n",
    "GEO_LAT - широта\n",
    "GEO_LNG - долгота\n",
    "ACV_GEO_GOROD - город\n",
    "ACV_GEO_GOROD_RAW - городской округ города\n",
    "ACV_GEO_HOUSE - номер дома\n",
    "ACV_GEO_REGION - регион\n",
    "ACV_GEO_STREET - улица\n",
    "ACV_GEO_RAION_REGIONA - элемент АТД 1 уровня региона\n",
    "ACV_GEO_DIS_MIKRORAION - микрорайон\n",
    "ACV_GEO_DIS_OKRUG_HUMAN - элемент АТД 1 уровня города\n",
    "ACV_GEO_DIS_RAION_HUMAN - элемент АТД 2 уровня города\n",
    "ISQUALIFY - объявление квалифицированное\n",
    "ISDUPLICATED - объявление дубль\n",
    "ISPRICEQUALIFY - объявление квалифицированное по цене"
   ],
   "metadata": {
    "collapsed": false
   }
  },
  {
   "cell_type": "code",
   "execution_count": 1,
   "outputs": [],
   "source": [
    "import pandas as pd"
   ],
   "metadata": {
    "collapsed": false
   }
  },
  {
   "cell_type": "code",
   "execution_count": 2,
   "outputs": [
    {
     "data": {
      "text/plain": "      cianid         id  house_id_acv2     status  price_sqm  \\\n0  248144206  248144206      6493046.0  Published     151215   \n1  248154196  248154196            NaN    Deleted     174000   \n2  248154209  248154209            NaN    Deleted     174000   \n3  248154239  248154239            NaN    Deleted     189000   \n4  248154268  248154268            NaN    Deleted     150000   \n\n   bargainterms_price  bargainterms_price_start  bargainterms_price_max  \\\n0           8536067.0                 8536067.0               8536067.0   \n1                 NaN                       NaN                     NaN   \n2                 NaN                       NaN                     NaN   \n3                 NaN                       NaN                     NaN   \n4                 NaN                       NaN                     NaN   \n\n   bargainterms_price_min bargainterms_currency  ... acv_geo_house  \\\n0               8536067.0                   rur  ...           к16   \n1                     NaN                   rur  ...           NaN   \n2                     NaN                   rur  ...           NaN   \n3                     NaN                   rur  ...           NaN   \n4                     NaN                   rur  ...           NaN   \n\n  acv_geo_region       acv_geo_street      acv_geo_raion_regiona  \\\n0     Московская  Миниполис Дивное ЖК  Ленинский городской округ   \n1         Москва           Люблинская                        NaN   \n2         Москва           Люблинская                        NaN   \n3         Москва           Люблинская                        NaN   \n4         Москва           Люблинская                        NaN   \n\n  acv_geo_dis_mikroraion  acv_geo_dis_okrug_human acv_geo_dis_raion_human  \\\n0                    NaN                      NaN                     NaN   \n1                    NaN                     ЮВАО                 Люблино   \n2                    NaN                     ЮВАО                 Люблино   \n3                    NaN                     ЮВАО                 Люблино   \n4                    NaN                     ЮВАО                 Люблино   \n\n   isqualify  isduplicated  ispricequalify  \n0       True         False            True  \n1      False         False            True  \n2      False         False            True  \n3      False         False            True  \n4      False         False            True  \n\n[5 rows x 53 columns]",
      "text/html": "<div>\n<style scoped>\n    .dataframe tbody tr th:only-of-type {\n        vertical-align: middle;\n    }\n\n    .dataframe tbody tr th {\n        vertical-align: top;\n    }\n\n    .dataframe thead th {\n        text-align: right;\n    }\n</style>\n<table border=\"1\" class=\"dataframe\">\n  <thead>\n    <tr style=\"text-align: right;\">\n      <th></th>\n      <th>cianid</th>\n      <th>id</th>\n      <th>house_id_acv2</th>\n      <th>status</th>\n      <th>price_sqm</th>\n      <th>bargainterms_price</th>\n      <th>bargainterms_price_start</th>\n      <th>bargainterms_price_max</th>\n      <th>bargainterms_price_min</th>\n      <th>bargainterms_currency</th>\n      <th>...</th>\n      <th>acv_geo_house</th>\n      <th>acv_geo_region</th>\n      <th>acv_geo_street</th>\n      <th>acv_geo_raion_regiona</th>\n      <th>acv_geo_dis_mikroraion</th>\n      <th>acv_geo_dis_okrug_human</th>\n      <th>acv_geo_dis_raion_human</th>\n      <th>isqualify</th>\n      <th>isduplicated</th>\n      <th>ispricequalify</th>\n    </tr>\n  </thead>\n  <tbody>\n    <tr>\n      <th>0</th>\n      <td>248144206</td>\n      <td>248144206</td>\n      <td>6493046.0</td>\n      <td>Published</td>\n      <td>151215</td>\n      <td>8536067.0</td>\n      <td>8536067.0</td>\n      <td>8536067.0</td>\n      <td>8536067.0</td>\n      <td>rur</td>\n      <td>...</td>\n      <td>к16</td>\n      <td>Московская</td>\n      <td>Миниполис Дивное ЖК</td>\n      <td>Ленинский городской округ</td>\n      <td>NaN</td>\n      <td>NaN</td>\n      <td>NaN</td>\n      <td>True</td>\n      <td>False</td>\n      <td>True</td>\n    </tr>\n    <tr>\n      <th>1</th>\n      <td>248154196</td>\n      <td>248154196</td>\n      <td>NaN</td>\n      <td>Deleted</td>\n      <td>174000</td>\n      <td>NaN</td>\n      <td>NaN</td>\n      <td>NaN</td>\n      <td>NaN</td>\n      <td>rur</td>\n      <td>...</td>\n      <td>NaN</td>\n      <td>Москва</td>\n      <td>Люблинская</td>\n      <td>NaN</td>\n      <td>NaN</td>\n      <td>ЮВАО</td>\n      <td>Люблино</td>\n      <td>False</td>\n      <td>False</td>\n      <td>True</td>\n    </tr>\n    <tr>\n      <th>2</th>\n      <td>248154209</td>\n      <td>248154209</td>\n      <td>NaN</td>\n      <td>Deleted</td>\n      <td>174000</td>\n      <td>NaN</td>\n      <td>NaN</td>\n      <td>NaN</td>\n      <td>NaN</td>\n      <td>rur</td>\n      <td>...</td>\n      <td>NaN</td>\n      <td>Москва</td>\n      <td>Люблинская</td>\n      <td>NaN</td>\n      <td>NaN</td>\n      <td>ЮВАО</td>\n      <td>Люблино</td>\n      <td>False</td>\n      <td>False</td>\n      <td>True</td>\n    </tr>\n    <tr>\n      <th>3</th>\n      <td>248154239</td>\n      <td>248154239</td>\n      <td>NaN</td>\n      <td>Deleted</td>\n      <td>189000</td>\n      <td>NaN</td>\n      <td>NaN</td>\n      <td>NaN</td>\n      <td>NaN</td>\n      <td>rur</td>\n      <td>...</td>\n      <td>NaN</td>\n      <td>Москва</td>\n      <td>Люблинская</td>\n      <td>NaN</td>\n      <td>NaN</td>\n      <td>ЮВАО</td>\n      <td>Люблино</td>\n      <td>False</td>\n      <td>False</td>\n      <td>True</td>\n    </tr>\n    <tr>\n      <th>4</th>\n      <td>248154268</td>\n      <td>248154268</td>\n      <td>NaN</td>\n      <td>Deleted</td>\n      <td>150000</td>\n      <td>NaN</td>\n      <td>NaN</td>\n      <td>NaN</td>\n      <td>NaN</td>\n      <td>rur</td>\n      <td>...</td>\n      <td>NaN</td>\n      <td>Москва</td>\n      <td>Люблинская</td>\n      <td>NaN</td>\n      <td>NaN</td>\n      <td>ЮВАО</td>\n      <td>Люблино</td>\n      <td>False</td>\n      <td>False</td>\n      <td>True</td>\n    </tr>\n  </tbody>\n</table>\n<p>5 rows × 53 columns</p>\n</div>"
     },
     "execution_count": 2,
     "metadata": {},
     "output_type": "execute_result"
    }
   ],
   "source": [
    "df = pd.read_csv('Files/data_to_project.csv', encoding='utf-8', delimiter=',')\n",
    "df.head(5)"
   ],
   "metadata": {
    "collapsed": false
   }
  },
  {
   "cell_type": "markdown",
   "source": [
    "Создадим новый датасет для предсказания стоимости квартиры"
   ],
   "metadata": {
    "collapsed": false
   }
  },
  {
   "cell_type": "code",
   "execution_count": 3,
   "outputs": [
    {
     "data": {
      "text/plain": "   bargainterms_price  roomscount  totalarea  floornumber isapartments  \\\n0           8536067.0         2.0      56.45            1        False   \n1                 NaN         1.0      44.43            3        False   \n2                 NaN         1.0      44.43            7        False   \n3                 NaN         NaN      28.48           13        False   \n4                 NaN         2.0      66.18           16        False   \n\n  ispenthouse acv_geo_region  \n0         NaN     Московская  \n1       False         Москва  \n2       False         Москва  \n3       False         Москва  \n4       False         Москва  ",
      "text/html": "<div>\n<style scoped>\n    .dataframe tbody tr th:only-of-type {\n        vertical-align: middle;\n    }\n\n    .dataframe tbody tr th {\n        vertical-align: top;\n    }\n\n    .dataframe thead th {\n        text-align: right;\n    }\n</style>\n<table border=\"1\" class=\"dataframe\">\n  <thead>\n    <tr style=\"text-align: right;\">\n      <th></th>\n      <th>bargainterms_price</th>\n      <th>roomscount</th>\n      <th>totalarea</th>\n      <th>floornumber</th>\n      <th>isapartments</th>\n      <th>ispenthouse</th>\n      <th>acv_geo_region</th>\n    </tr>\n  </thead>\n  <tbody>\n    <tr>\n      <th>0</th>\n      <td>8536067.0</td>\n      <td>2.0</td>\n      <td>56.45</td>\n      <td>1</td>\n      <td>False</td>\n      <td>NaN</td>\n      <td>Московская</td>\n    </tr>\n    <tr>\n      <th>1</th>\n      <td>NaN</td>\n      <td>1.0</td>\n      <td>44.43</td>\n      <td>3</td>\n      <td>False</td>\n      <td>False</td>\n      <td>Москва</td>\n    </tr>\n    <tr>\n      <th>2</th>\n      <td>NaN</td>\n      <td>1.0</td>\n      <td>44.43</td>\n      <td>7</td>\n      <td>False</td>\n      <td>False</td>\n      <td>Москва</td>\n    </tr>\n    <tr>\n      <th>3</th>\n      <td>NaN</td>\n      <td>NaN</td>\n      <td>28.48</td>\n      <td>13</td>\n      <td>False</td>\n      <td>False</td>\n      <td>Москва</td>\n    </tr>\n    <tr>\n      <th>4</th>\n      <td>NaN</td>\n      <td>2.0</td>\n      <td>66.18</td>\n      <td>16</td>\n      <td>False</td>\n      <td>False</td>\n      <td>Москва</td>\n    </tr>\n  </tbody>\n</table>\n</div>"
     },
     "execution_count": 3,
     "metadata": {},
     "output_type": "execute_result"
    }
   ],
   "source": [
    "df_new = df[['bargainterms_price', 'roomscount', 'totalarea', 'floornumber', 'isapartments', 'ispenthouse', 'acv_geo_region']]\n",
    "df_new.head(5)"
   ],
   "metadata": {
    "collapsed": false
   }
  },
  {
   "cell_type": "code",
   "execution_count": 4,
   "outputs": [
    {
     "name": "stdout",
     "output_type": "stream",
     "text": [
      "<class 'pandas.core.frame.DataFrame'>\n",
      "RangeIndex: 10000 entries, 0 to 9999\n",
      "Data columns (total 7 columns):\n",
      " #   Column              Non-Null Count  Dtype  \n",
      "---  ------              --------------  -----  \n",
      " 0   bargainterms_price  9867 non-null   float64\n",
      " 1   roomscount          8592 non-null   float64\n",
      " 2   totalarea           10000 non-null  float64\n",
      " 3   floornumber         10000 non-null  int64  \n",
      " 4   isapartments        9776 non-null   object \n",
      " 5   ispenthouse         675 non-null    object \n",
      " 6   acv_geo_region      10000 non-null  object \n",
      "dtypes: float64(3), int64(1), object(3)\n",
      "memory usage: 547.0+ KB\n"
     ]
    }
   ],
   "source": [
    "df_new.info()"
   ],
   "metadata": {
    "collapsed": false
   }
  },
  {
   "cell_type": "code",
   "execution_count": 5,
   "outputs": [
    {
     "name": "stdout",
     "output_type": "stream",
     "text": [
      "<class 'pandas.core.frame.DataFrame'>\n",
      "Int64Index: 9867 entries, 0 to 9999\n",
      "Data columns (total 7 columns):\n",
      " #   Column              Non-Null Count  Dtype  \n",
      "---  ------              --------------  -----  \n",
      " 0   bargainterms_price  9867 non-null   float64\n",
      " 1   roomscount          9867 non-null   float64\n",
      " 2   totalarea           9867 non-null   float64\n",
      " 3   floornumber         9867 non-null   int64  \n",
      " 4   isapartments        9867 non-null   object \n",
      " 5   ispenthouse         9867 non-null   object \n",
      " 6   acv_geo_region      9867 non-null   object \n",
      "dtypes: float64(3), int64(1), object(3)\n",
      "memory usage: 616.7+ KB\n"
     ]
    }
   ],
   "source": [
    "df_new=df_new.dropna(subset=['bargainterms_price']) #убираем все пустые значения\n",
    "df_new.loc[df_new['isapartments'].isna(), 'isapartments']=0 #заменяем пустые значения на 0 - не апартаменты\n",
    "df_new.loc[df_new['ispenthouse'].isna(), 'ispenthouse']=0 #заменяем пустые значения на 0 - не пентхаус\n",
    "df_new.loc[df_new['roomscount'].isna(), 'roomscount']=1 #заменяем пустые значения на 1 - так как в квартире может быть минимум одна комната\n",
    "df_new.info()"
   ],
   "metadata": {
    "collapsed": false
   }
  },
  {
   "cell_type": "code",
   "execution_count": 6,
   "outputs": [],
   "source": [
    "df_new['bargainterms_price'] = df_new['bargainterms_price'] / 1000 # приведем цену к тысячам рублей"
   ],
   "metadata": {
    "collapsed": false
   }
  },
  {
   "cell_type": "code",
   "execution_count": 7,
   "outputs": [
    {
     "name": "stdout",
     "output_type": "stream",
     "text": [
      "<class 'pandas.core.frame.DataFrame'>\n",
      "Int64Index: 9867 entries, 0 to 9999\n",
      "Data columns (total 7 columns):\n",
      " #   Column              Non-Null Count  Dtype  \n",
      "---  ------              --------------  -----  \n",
      " 0   bargainterms_price  9867 non-null   float64\n",
      " 1   roomscount          9867 non-null   float64\n",
      " 2   totalarea           9867 non-null   float64\n",
      " 3   floornumber         9867 non-null   int64  \n",
      " 4   isapartments        9867 non-null   object \n",
      " 5   ispenthouse         9867 non-null   object \n",
      " 6   acv_geo_region      9867 non-null   object \n",
      "dtypes: float64(3), int64(1), object(3)\n",
      "memory usage: 616.7+ KB\n"
     ]
    }
   ],
   "source": [
    "df_new.loc[(df_new['isapartments']==False), 'isapartments']=0 # заменим логические операторы на их цифровые аналоги\n",
    "df_new.loc[(df_new['isapartments']==True), 'isapartments']=1\n",
    "df_new.loc[(df_new['ispenthouse']==False), 'ispenthouse']=0\n",
    "df_new.loc[(df_new['ispenthouse']==True), 'ispenthouse']=1\n",
    "df_new.info()"
   ],
   "metadata": {
    "collapsed": false
   }
  },
  {
   "cell_type": "code",
   "execution_count": 8,
   "outputs": [
    {
     "name": "stdout",
     "output_type": "stream",
     "text": [
      "<class 'pandas.core.frame.DataFrame'>\n",
      "Int64Index: 9867 entries, 0 to 9999\n",
      "Data columns (total 7 columns):\n",
      " #   Column              Non-Null Count  Dtype  \n",
      "---  ------              --------------  -----  \n",
      " 0   bargainterms_price  9867 non-null   float64\n",
      " 1   roomscount          9867 non-null   int32  \n",
      " 2   totalarea           9867 non-null   float64\n",
      " 3   floornumber         9867 non-null   int32  \n",
      " 4   isapartments        9867 non-null   int32  \n",
      " 5   ispenthouse         9867 non-null   int32  \n",
      " 6   acv_geo_region      9867 non-null   object \n",
      "dtypes: float64(2), int32(4), object(1)\n",
      "memory usage: 462.5+ KB\n"
     ]
    }
   ],
   "source": [
    "df_new['roomscount'] = df_new['roomscount'].astype(int) # приведем колонки к целому типу\n",
    "df_new['floornumber'] = df_new['floornumber'].astype(int)\n",
    "df_new['isapartments'] = df_new['isapartments'].astype(int)\n",
    "df_new['ispenthouse'] = df_new['ispenthouse'].astype(int)\n",
    "df_new.info()"
   ],
   "metadata": {
    "collapsed": false
   }
  },
  {
   "cell_type": "markdown",
   "source": [
    "Разделим колонку регион на множество столбцов с 0 и 1"
   ],
   "metadata": {
    "collapsed": false
   }
  },
  {
   "cell_type": "code",
   "execution_count": 9,
   "outputs": [
    {
     "data": {
      "text/plain": "    bargainterms_price  roomscount  totalarea  floornumber  isapartments  \\\n0             8536.067           2      56.45            1             0   \n28           10003.950           3      70.95           16             0   \n41            6548.620           1      36.79           10             0   \n44            6265.800           1      34.81           15             0   \n46            6237.120           1      35.04            7             0   \n\n    ispenthouse  Кемеровская  Москва  Московская  Мурманская  Нижегородская  \\\n0             0            0       0           1           0              0   \n28            0            0       1           0           0              0   \n41            0            0       1           0           0              0   \n44            0            0       1           0           0              0   \n46            0            0       1           0           0              0   \n\n    Орловская  Пермский  Санкт-Петербург  Тамбовская  \n0           0         0                0           0  \n28          0         0                0           0  \n41          0         0                0           0  \n44          0         0                0           0  \n46          0         0                0           0  ",
      "text/html": "<div>\n<style scoped>\n    .dataframe tbody tr th:only-of-type {\n        vertical-align: middle;\n    }\n\n    .dataframe tbody tr th {\n        vertical-align: top;\n    }\n\n    .dataframe thead th {\n        text-align: right;\n    }\n</style>\n<table border=\"1\" class=\"dataframe\">\n  <thead>\n    <tr style=\"text-align: right;\">\n      <th></th>\n      <th>bargainterms_price</th>\n      <th>roomscount</th>\n      <th>totalarea</th>\n      <th>floornumber</th>\n      <th>isapartments</th>\n      <th>ispenthouse</th>\n      <th>Кемеровская</th>\n      <th>Москва</th>\n      <th>Московская</th>\n      <th>Мурманская</th>\n      <th>Нижегородская</th>\n      <th>Орловская</th>\n      <th>Пермский</th>\n      <th>Санкт-Петербург</th>\n      <th>Тамбовская</th>\n    </tr>\n  </thead>\n  <tbody>\n    <tr>\n      <th>0</th>\n      <td>8536.067</td>\n      <td>2</td>\n      <td>56.45</td>\n      <td>1</td>\n      <td>0</td>\n      <td>0</td>\n      <td>0</td>\n      <td>0</td>\n      <td>1</td>\n      <td>0</td>\n      <td>0</td>\n      <td>0</td>\n      <td>0</td>\n      <td>0</td>\n      <td>0</td>\n    </tr>\n    <tr>\n      <th>28</th>\n      <td>10003.950</td>\n      <td>3</td>\n      <td>70.95</td>\n      <td>16</td>\n      <td>0</td>\n      <td>0</td>\n      <td>0</td>\n      <td>1</td>\n      <td>0</td>\n      <td>0</td>\n      <td>0</td>\n      <td>0</td>\n      <td>0</td>\n      <td>0</td>\n      <td>0</td>\n    </tr>\n    <tr>\n      <th>41</th>\n      <td>6548.620</td>\n      <td>1</td>\n      <td>36.79</td>\n      <td>10</td>\n      <td>0</td>\n      <td>0</td>\n      <td>0</td>\n      <td>1</td>\n      <td>0</td>\n      <td>0</td>\n      <td>0</td>\n      <td>0</td>\n      <td>0</td>\n      <td>0</td>\n      <td>0</td>\n    </tr>\n    <tr>\n      <th>44</th>\n      <td>6265.800</td>\n      <td>1</td>\n      <td>34.81</td>\n      <td>15</td>\n      <td>0</td>\n      <td>0</td>\n      <td>0</td>\n      <td>1</td>\n      <td>0</td>\n      <td>0</td>\n      <td>0</td>\n      <td>0</td>\n      <td>0</td>\n      <td>0</td>\n      <td>0</td>\n    </tr>\n    <tr>\n      <th>46</th>\n      <td>6237.120</td>\n      <td>1</td>\n      <td>35.04</td>\n      <td>7</td>\n      <td>0</td>\n      <td>0</td>\n      <td>0</td>\n      <td>1</td>\n      <td>0</td>\n      <td>0</td>\n      <td>0</td>\n      <td>0</td>\n      <td>0</td>\n      <td>0</td>\n      <td>0</td>\n    </tr>\n  </tbody>\n</table>\n</div>"
     },
     "execution_count": 9,
     "metadata": {},
     "output_type": "execute_result"
    }
   ],
   "source": [
    "# применяем метод get_dummies() к столбцу acv_geo_region\n",
    "dummies = pd.get_dummies(df_new['acv_geo_region'])\n",
    "\n",
    "# объединяем исходный датафрейм и бинарные столбцы\n",
    "df_new = pd.concat([df_new, dummies], axis=1)\n",
    "\n",
    "# удаляем столбец который нам больше не нужен\n",
    "df_new = df_new.drop('acv_geo_region', axis=1)\n",
    "\n",
    "df_new.head(5)"
   ],
   "metadata": {
    "collapsed": false
   }
  },
  {
   "cell_type": "markdown",
   "source": [
    "Посмотрим на выбросы"
   ],
   "metadata": {
    "collapsed": false
   }
  },
  {
   "cell_type": "code",
   "execution_count": 10,
   "outputs": [],
   "source": [
    "import matplotlib.pyplot as plt"
   ],
   "metadata": {
    "collapsed": false
   }
  },
  {
   "cell_type": "code",
   "execution_count": 11,
   "outputs": [
    {
     "data": {
      "text/plain": "<Figure size 640x480 with 1 Axes>",
      "image/png": "[encoded data removed]"
     },
     "metadata": {},
     "output_type": "display_data"
    }
   ],
   "source": [
    "plt.boxplot(df_new['bargainterms_price'])\n",
    "plt.show()"
   ],
   "metadata": {
    "collapsed": false
   }
  },
  {
   "cell_type": "markdown",
   "source": [
    "Так как выбросов очень много, то избавимся от них"
   ],
   "metadata": {
    "collapsed": false
   }
  },
  {
   "cell_type": "code",
   "execution_count": 12,
   "outputs": [],
   "source": [
    "# Вычисляем верхнюю и нижнюю границы межквартильного диапазона\n",
    "q1 = df_new[\"bargainterms_price\"].quantile(0.25)\n",
    "q3 = df_new[\"bargainterms_price\"].quantile(0.75)\n",
    "iqr = q3 - q1\n",
    "lower_bound = q1 - 1 * iqr\n",
    "upper_bound = q3 + 1 * iqr\n",
    "\n",
    "# Очищаем DataFrame от выбросов\n",
    "df_new = df_new[(df_new[\"bargainterms_price\"] > lower_bound) & (df_new[\"bargainterms_price\"] < upper_bound)]"
   ],
   "metadata": {
    "collapsed": false
   }
  },
  {
   "cell_type": "code",
   "execution_count": 13,
   "outputs": [
    {
     "data": {
      "text/plain": "<Figure size 640x480 with 1 Axes>",
      "image/png": "[encoded data removed]"
     },
     "metadata": {},
     "output_type": "display_data"
    }
   ],
   "source": [
    "plt.boxplot(df_new['bargainterms_price']) # снова смотрим на наличие выбросов\n",
    "plt.show()"
   ],
   "metadata": {
    "collapsed": false
   }
  },
  {
   "cell_type": "markdown",
   "source": [
    "Так как больше не осталось выбросов, то решаю задачу регрессии, так как хочу предсказать стоимость квартиры исходя из ее параметров."
   ],
   "metadata": {
    "collapsed": false
   }
  },
  {
   "cell_type": "code",
   "execution_count": 14,
   "outputs": [],
   "source": [
    "from sklearn.model_selection import train_test_split\n",
    "from sklearn.linear_model import LinearRegression"
   ],
   "metadata": {
    "collapsed": false
   }
  },
  {
   "cell_type": "code",
   "execution_count": 15,
   "outputs": [],
   "source": [
    "# делим признаки и ответ на разные выборки, после чего данные делим на тестовые и обучающие\n",
    "X = df_new[['roomscount', 'totalarea', 'floornumber', 'isapartments', 'ispenthouse', 'Кемеровская', 'Москва', 'Московская', 'Мурманская', 'Нижегородская', 'Орловская', 'Пермский', 'Санкт-Петербург', 'Тамбовская']]\n",
    "y = df_new.bargainterms_price\n",
    "x_train, x_test, y_train, y_test = train_test_split(X, y, test_size=0.2)"
   ],
   "metadata": {
    "collapsed": false
   }
  },
  {
   "cell_type": "code",
   "execution_count": 16,
   "outputs": [],
   "source": [
    "model = LinearRegression().fit(x_train, y_train)"
   ],
   "metadata": {
    "collapsed": false
   }
  },
  {
   "cell_type": "code",
   "execution_count": 17,
   "outputs": [],
   "source": [
    "y_pred = model.predict(x_test)"
   ],
   "metadata": {
    "collapsed": false
   }
  },
  {
   "cell_type": "code",
   "execution_count": 18,
   "outputs": [],
   "source": [
    "from sklearn.metrics import mean_squared_error\n",
    "from sklearn.metrics import mean_absolute_error"
   ],
   "metadata": {
    "collapsed": false
   }
  },
  {
   "cell_type": "code",
   "execution_count": 19,
   "outputs": [
    {
     "name": "stdout",
     "output_type": "stream",
     "text": [
      "rmse: 1054.666, mae: 741.317\n"
     ]
    }
   ],
   "source": [
    "mse = mean_squared_error(y_test, y_pred)\n",
    "mae = mean_absolute_error(y_test, y_pred)\n",
    "rmse = mse**(1/2)\n",
    "print('rmse: %.3f, mae: %.3f' % (rmse, mae))"
   ],
   "metadata": {
    "collapsed": false
   }
  },
  {
   "cell_type": "markdown",
   "source": [
    "Результаты модели получились следующие: абсолютная ошибка предсказания составляет почти 741.3 тыс. руб., а средний квадрат ошибки около 1054.7 тыс. руб. Такая разница в цене очень весома для потенциальных покупателей квартир, поэтому, скорее всего, есть смысл рассмотреть другие модели, чтобы попробовать улучшить результаты."
   ],
   "metadata": {
    "collapsed": false
   }
  }
 ],
 "metadata": {
  "kernelspec": {
   "display_name": "Python 3",
   "language": "python",
   "name": "python3"
  },
  "language_info": {
   "codemirror_mode": {
    "name": "ipython",
    "version": 2
   },
   "file_extension": ".py",
   "mimetype": "text/x-python",
   "name": "python",
   "nbconvert_exporter": "python",
   "pygments_lexer": "ipython2",
   "version": "2.7.6"
  }
 },
 "nbformat": 4,
 "nbformat_minor": 0
}
